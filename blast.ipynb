{
 "cells": [
  {
   "cell_type": "code",
   "execution_count": null,
   "metadata": {},
   "outputs": [],
   "source": [
    "from Bio.Blast import NCBIWWW \n",
    "from Bio import SeqIO"
   ]
  },
  {
   "cell_type": "markdown",
   "metadata": {},
   "source": [
    "Let us start by reading all sequences from a fasta file. In this case, we downloaded the file in http://predictioncenter.org/download_area/CASP13/sequences/ containing the query sequences in CASP 13. More information in http://predictioncenter.org/casp13/targetlist.cgi \n"
   ]
  },
  {
   "cell_type": "code",
   "execution_count": null,
   "metadata": {},
   "outputs": [],
   "source": [
    "flh = open('all_targets.fasta')\n",
    "fasta_sequences = SeqIO.parse(flh,'fasta')\n",
    "for fasta in fasta_sequences:\n",
    "    name, sequence = fasta.id, str(fasta.seq)\n",
    "    print(name,sequence)\n",
    "flh.close()"
   ]
  },
  {
   "cell_type": "markdown",
   "metadata": {},
   "source": [
    "let us run BLAST for one of the particular query sequences (T0979), and keep the XML file"
   ]
  },
  {
   "cell_type": "code",
   "execution_count": null,
   "metadata": {},
   "outputs": [],
   "source": [
    "idname = 'T0979'"
   ]
  },
  {
   "cell_type": "code",
   "execution_count": null,
   "metadata": {},
   "outputs": [],
   "source": [
    "flh = open('all_targets.fasta')\n",
    "for i in SeqIO.parse(flh, \"fasta\"): \n",
    "   if i.id==idname: \n",
    "      result_handle=NCBIWWW.qblast(\"blastp\", \"pdb\", i.seq) \n",
    "      a=str(i.seq[0:4]) \n",
    "      blast = open(a+\"_blast.xml\", \"w\") \n",
    "      blast.write(result_handle.read()) \n",
    "      blast.close() \n",
    "      result_handle.close()"
   ]
  },
  {
   "cell_type": "markdown",
   "metadata": {},
   "source": [
    "http://www.clustal.org/clustal2/\n"
   ]
  },
  {
   "cell_type": "code",
   "execution_count": null,
   "metadata": {},
   "outputs": [],
   "source": [
    "from Bio import AlignIO \n",
    "from Bio.Align.Applications import ClustalOmegaCommandline \n",
    "\n",
    "file='all_targets.fasta'\n",
    "outfile='all_targets_aligned.fasta'\n",
    "cline = ClustalOmegaCommandline(infile= file, outfile= out_file, verbose=True, auto=True) \n",
    "stdout, stderr = cline() \n"
   ]
  },
  {
   "cell_type": "code",
   "execution_count": null,
   "metadata": {},
   "outputs": [],
   "source": []
  }
 ],
 "metadata": {
  "kernelspec": {
   "display_name": "Python 3",
   "language": "python",
   "name": "python3"
  },
  "language_info": {
   "codemirror_mode": {
    "name": "ipython",
    "version": 3
   },
   "file_extension": ".py",
   "mimetype": "text/x-python",
   "name": "python",
   "nbconvert_exporter": "python",
   "pygments_lexer": "ipython3",
   "version": "3.7.4"
  }
 },
 "nbformat": 4,
 "nbformat_minor": 4
}
