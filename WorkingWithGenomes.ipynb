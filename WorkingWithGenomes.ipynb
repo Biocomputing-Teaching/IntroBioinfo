{
 "cells": [
  {
   "cell_type": "markdown",
   "metadata": {},
   "source": [
    "Adapted from [https://github.com/PacktPublishing/Bioinformatics-with-Python-Cookbook-Second-Edition](https://github.com/PacktPublishing/Bioinformatics-with-Python-Cookbook-Second-Edition), Chapter 2.\n",
    "\n",
    "First, we will download the genome for the Yoruba poulation. You can check reference genomes for different populations in the [1000 genomes database](https://www.internationalgenome.org/data-portal/sample)"
   ]
  },
  {
   "cell_type": "code",
   "execution_count": 5,
   "metadata": {},
   "outputs": [
    {
     "name": "stdout",
     "output_type": "stream",
     "text": [
      "--2020-04-03 13:31:17--  ftp://ftp.1000genomes.ebi.ac.uk/vol1/ftp/phase3/data/NA18489/sequence_read/SRR003265.filt.fastq.gz\n",
      "           => 'data/SRR003265.filt.fastq.gz'\n",
      "Resolving ftp.1000genomes.ebi.ac.uk... 193.62.197.77\n",
      "Connecting to ftp.1000genomes.ebi.ac.uk|193.62.197.77|:21... connected.\n",
      "Logging in as anonymous ... Logged in!\n",
      "==> SYST ... done.    ==> PWD ... done.\n",
      "==> TYPE I ... done.  ==> CWD (1) /vol1/ftp/phase3/data/NA18489/sequence_read ... done.\n",
      "==> SIZE SRR003265.filt.fastq.gz ... 28919712\n",
      "==> PASV ... done.    ==> RETR SRR003265.filt.fastq.gz ... done.\n",
      "Length: 28919712 (28M) (unauthoritative)\n",
      "\n",
      "SRR003265.filt.fast 100%[===================>]  27.58M  8.93MB/s    in 3.1s    \n",
      "\n",
      "2020-04-03 13:31:20 (8.93 MB/s) - 'data/SRR003265.filt.fastq.gz' saved [28919712]\n",
      "\n"
     ]
    }
   ],
   "source": [
    "!rm -f data/SRR003265.filt.fastq.gz 2>/dev/null\n",
    "!wget -P data/ -nd ftp://ftp.1000genomes.ebi.ac.uk/vol1/ftp/phase3/data/NA18489/sequence_read/SRR003265.filt.fastq.gz "
   ]
  },
  {
   "cell_type": "markdown",
   "metadata": {},
   "source": [
    "First let us open the file. It is gzipped, so we need to take this into account\n",
    "The [FASTQ](https://drive5.com/usearch/manual/fastq_files.html) file contains info with quality scores. For example:\n",
    "```\n",
    "@SRR003265.818 3042NAAXX:3:1:1926:1464 length=51\n",
    "GAAAAAAATCCGTGTATAGATGGACCTGCACAGTTTAAACCTGTGTTGTTC\n",
    "+\n",
    "IIIIIIIIIIIIIIIIIII:IIIIIIIIIDIIIIIICI-7BII?IAIIII8\n",
    "```\n",
    "\n",
    "where the symbols in the last row contain the Phred quality scores. From lower to higher quality:\n",
    "```\n",
    "!\"#$%&'()*+,-./0123456789:;<=>?@ABCDEFGHIJKLMNOPQRSTUVWXYZ[\\]^_`abcdefghijklmnopqrstuvwxyz{|}~\n",
    "```\n"
   ]
  },
  {
   "cell_type": "code",
   "execution_count": 6,
   "metadata": {},
   "outputs": [
    {
     "name": "stdout",
     "output_type": "stream",
     "text": [
      "SRR003265.31 SRR003265.31 3042NAAXX:3:1:1252:1819 length=51 GGGAAAAGAAAAACAAACAAACAAAAACAAAACACAGAAACAAAAAAACCA\n",
      "{'phred_quality': [40, 40, 40, 40, 40, 40, 40, 40, 40, 40, 40, 40, 40, 40, 40, 40, 40, 40, 40, 30, 23, 40, 32, 35, 29, 40, 16, 40, 40, 32, 35, 31, 40, 40, 39, 22, 40, 24, 20, 28, 31, 12, 31, 10, 22, 28, 13, 26, 20, 23, 23]}\n"
     ]
    }
   ],
   "source": [
    "import gzip\n",
    "\n",
    "%matplotlib inline\n",
    "import seaborn as sns\n",
    "import matplotlib.pyplot as plt\n",
    "\n",
    "from Bio import SeqIO\n",
    "\n",
    "recs = SeqIO.parse(gzip.open('data/SRR003265.filt.fastq.gz', 'rt', encoding='utf-8'), 'fastq')\n",
    "rec = next(recs)\n",
    "print(rec.id, rec.description, rec.seq)\n",
    "print(rec.letter_annotations)"
   ]
  },
  {
   "cell_type": "markdown",
   "metadata": {},
   "source": [
    "let us have a look at the distribution of the nucleotide reads"
   ]
  },
  {
   "cell_type": "code",
   "execution_count": 7,
   "metadata": {},
   "outputs": [
    {
     "name": "stdout",
     "output_type": "stream",
     "text": [
      "G: 20.68 5359334\n",
      "A: 28.60 7411965\n",
      "C: 21.00 5444053\n",
      "T: 29.58 7666885\n",
      "N: 0.14 37289\n"
     ]
    }
   ],
   "source": [
    "from collections import defaultdict\n",
    "recs = SeqIO.parse(gzip.open('data/SRR003265.filt.fastq.gz', 'rt', encoding='utf-8'), 'fastq')\n",
    "\n",
    "# let us define a default dictionary of integers. \n",
    "# The defauldict is a useful way to simplfy the creation of dictionaries\n",
    "cnt = defaultdict(int)\n",
    "for rec in recs:\n",
    "    for letter in rec.seq:\n",
    "        cnt[letter] += 1\n",
    "tot = sum(cnt.values())\n",
    "for letter, cnt in cnt.items():\n",
    "    print('%s: %.2f %d' % (letter, 100. * cnt / tot, cnt))"
   ]
  },
  {
   "cell_type": "markdown",
   "metadata": {},
   "source": [
    "The amount of Ns will be much higher in an unfiltered FASTQ file that directly comes from the\n",
    "sequencer. Let us plot the distribution of Ns according to its read position:"
   ]
  },
  {
   "cell_type": "code",
   "execution_count": 9,
   "metadata": {},
   "outputs": [
    {
     "data": {
      "text/plain": [
       "(1, 51)"
      ]
     },
     "execution_count": 9,
     "metadata": {},
     "output_type": "execute_result"
    },
    {
     "data": {
      "image/png": "[encoded data removed]",
      "text/plain": [
       "<Figure size 1152x648 with 1 Axes>"
      ]
     },
     "metadata": {
      "needs_background": "light"
     },
     "output_type": "display_data"
    }
   ],
   "source": [
    "recs = SeqIO.parse(gzip.open('data/SRR003265.filt.fastq.gz', 'rt', encoding='UTF-8'), 'fastq')\n",
    "n_cnt = defaultdict(int)\n",
    "for rec in recs:\n",
    "    for i, letter in enumerate(rec.seq):\n",
    "        pos = i + 1\n",
    "        if letter == 'N':\n",
    "            n_cnt[pos] += 1\n",
    "seq_len = max(n_cnt.keys())\n",
    "positions = range(1, seq_len + 1)\n",
    "fig, ax = plt.subplots(figsize=(16,9))\n",
    "ax.plot(positions, [n_cnt[x] for x in positions])\n",
    "ax.set_xlim(1, seq_len)"
   ]
  },
  {
   "cell_type": "markdown",
   "metadata": {},
   "source": [
    "Let us evaluate the quality"
   ]
  },
  {
   "cell_type": "code",
   "execution_count": 10,
   "metadata": {},
   "outputs": [
    {
     "name": "stdout",
     "output_type": "stream",
     "text": [
      "40: 22.76 3007221\n",
      "16: 2.05 270431\n",
      "32: 1.03 136763\n",
      "35: 0.91 120704\n",
      "31: 1.08 142464\n",
      "39: 0.78 102568\n",
      "22: 1.59 209905\n",
      "24: 1.46 193259\n",
      "20: 1.73 228923\n",
      "28: 1.23 162226\n",
      "12: 2.35 309918\n",
      "10: 4.95 654154\n",
      "13: 2.28 301033\n",
      "26: 1.33 176263\n",
      "23: 1.52 201164\n",
      "37: 0.84 111179\n",
      "34: 0.95 125624\n",
      "21: 1.66 219602\n",
      "30: 1.13 149449\n",
      "33: 0.99 131291\n",
      "25: 1.40 184846\n",
      "17: 1.97 259779\n",
      "38: 0.80 106290\n",
      "4: 4.77 630923\n",
      "36: 0.88 115701\n",
      "18: 1.88 248982\n",
      "11: 2.41 318303\n",
      "19: 1.81 239621\n",
      "5: 4.88 645266\n",
      "9: 2.51 332259\n",
      "3: 4.04 533458\n",
      "27: 1.28 168902\n",
      "8: 2.53 334410\n",
      "29: 1.17 154892\n",
      "15: 2.12 280719\n",
      "7: 2.51 331743\n",
      "2: 3.77 498679\n",
      "14: 2.20 291341\n",
      "6: 2.50 330834\n",
      "1: 1.52 200558\n",
      "0: 0.40 52229\n"
     ]
    }
   ],
   "source": [
    "recs = SeqIO.parse(gzip.open('data/SRR003265.filt.fastq.gz', 'rt', encoding='utf-8'), 'fastq')\n",
    "cnt_qual = defaultdict(int)\n",
    "for rec in recs:\n",
    "    for i, qual in enumerate(rec.letter_annotations['phred_quality']):\n",
    "        if i < 25:\n",
    "            continue\n",
    "        cnt_qual[qual] += 1\n",
    "tot = sum(cnt_qual.values())\n",
    "for qual, cnt in cnt_qual.items():\n",
    "    print('%d: %.2f %d' % (qual, 100. * cnt / tot, cnt))"
   ]
  },
  {
   "cell_type": "code",
   "execution_count": 14,
   "metadata": {},
   "outputs": [
    {
     "data": {
      "image/png": "[encoded data removed]",
      "text/plain": [
       "<Figure size 1152x648 with 1 Axes>"
      ]
     },
     "metadata": {
      "needs_background": "light"
     },
     "output_type": "display_data"
    }
   ],
   "source": [
    "recs = SeqIO.parse(gzip.open('data/SRR003265.filt.fastq.gz', 'rt', encoding='utf-8'), 'fastq')\n",
    "qual_pos = defaultdict(list)\n",
    "for rec in recs:\n",
    "    for i, qual in enumerate(rec.letter_annotations['phred_quality']):\n",
    "#        if i < 25 or qual == 40:\n",
    "#            continue\n",
    "        pos = i + 1\n",
    "        qual_pos[pos].append(qual)\n",
    "vps = []\n",
    "poses = list(qual_pos.keys())\n",
    "poses.sort()\n",
    "for pos in poses:\n",
    "    vps.append(qual_pos[pos])\n",
    "fig, ax = plt.subplots(figsize=(16,9))\n",
    "sns.boxplot(data=vps, ax=ax)\n",
    "ax.set_xticklabels([str(x) for x in range(1, max(qual_pos.keys()) + 1)])\n",
    "pass"
   ]
  },
  {
   "cell_type": "code",
   "execution_count": null,
   "metadata": {},
   "outputs": [],
   "source": []
  }
 ],
 "metadata": {
  "kernelspec": {
   "display_name": "Python 3",
   "language": "python",
   "name": "python3"
  },
  "language_info": {
   "codemirror_mode": {
    "name": "ipython",
    "version": 3
   },
   "file_extension": ".py",
   "mimetype": "text/x-python",
   "name": "python",
   "nbconvert_exporter": "python",
   "pygments_lexer": "ipython3",
   "version": "3.7.4"
  }
 },
 "nbformat": 4,
 "nbformat_minor": 4
}
