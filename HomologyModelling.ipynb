{
 "cells": [
  {
   "cell_type": "markdown",
   "metadata": {},
   "source": [
    "In this pactice we will be introducing the different tools to do a simple homology modelling experiment.\n",
    "The steps include looking for similar template structures to our target seqences, doing a multiple alignment of the target and template sequences and finally using this alignment and the template PDB files in Modeller to produce different models to be analyzed.\n",
    "Let us start by importing some useful modules from Biopython.\n",
    "\n",
    "0) Get Biopython first:\n",
    "``````\n",
    "conda install biopython\n",
    "```"
   ]
  },
  {
   "cell_type": "code",
   "execution_count": null,
   "metadata": {},
   "outputs": [],
   "source": [
    "from Bio.Blast import NCBIWWW \n",
    "from Bio import SeqIO"
   ]
  },
  {
   "cell_type": "markdown",
   "metadata": {},
   "source": [
    "1) Let  us start by reading all sequences from a fasta file. In this case, we first download the file in http://predictioncenter.org/download_area/CASP13/sequences/ containing the query sequences in CASP 13. More information in http://predictioncenter.org/casp13/targetlist.cgi \n"
   ]
  },
  {
   "cell_type": "code",
   "execution_count": null,
   "metadata": {},
   "outputs": [],
   "source": [
    "!wget http://predictioncenter.org/download_area/CASP13/sequences/casp13.seq.txt -O files/all_targets.fasta\n",
    "flh = open('files/all_targets.fasta')\n",
    "fasta_sequences = SeqIO.parse(flh,'fasta')\n",
    "for fasta in fasta_sequences:\n",
    "    name, sequence = fasta.id, str(fasta.seq)\n",
    "    print(name,sequence)\n",
    "flh.close()"
   ]
  },
  {
   "cell_type": "markdown",
   "metadata": {},
   "source": [
    "2) Now, let us run BLAST for one of the particular query sequences `idname` and keep the XML file"
   ]
  },
  {
   "cell_type": "code",
   "execution_count": null,
   "metadata": {},
   "outputs": [],
   "source": [
    "idname = 'T0951'"
   ]
  },
  {
   "cell_type": "code",
   "execution_count": null,
   "metadata": {},
   "outputs": [],
   "source": [
    "flh = open('files/all_targets.fasta')\n",
    "sequery=\"\"\n",
    "for i in SeqIO.parse(flh, \"fasta\"): \n",
    "   if i.id==idname: \n",
    "      print(\"Found match for \"+idname)\n",
    "      filename=\"files/\"+idname+\"_blast.xml\"\n",
    "      print(\"Calling BLAST against the PDB, and saving the XML file \"+filename)\n",
    "      result_handle=NCBIWWW.qblast(\"blastp\", \"pdb\", i.seq, hitlist_size=100) \n",
    "      a=str(i.seq[0:4]) \n",
    "      blastXMLfh = open(filename, \"w\") \n",
    "      blastXMLfh.write(result_handle.read()) \n",
    "      blastXMLfh.close() \n",
    "      result_handle.close()\n",
    "      print(\"Done!\")\n",
    "      sequery = str(i.seq)"
   ]
  },
  {
   "cell_type": "markdown",
   "metadata": {},
   "source": [
    "3) once we got the XML file containing all the results from the BLAST search, we need to parse it.\n",
    "BioPython provides [NCBIXML](http://biopython.org/DIST/docs/tutorial/Tutorial.html#htoc97). \n",
    "We could read the file created in the previous step by\n",
    "```\n",
    "result_handle = open(files/idname+\"_blast.xml\")\n",
    "```\n",
    "but as we already got our `result_handle` in the previous step we can proceed faster by accessing it directly.\n",
    "We will also write a file containing the sequences that we will want to aligne in the next step"
   ]
  },
  {
   "cell_type": "code",
   "execution_count": null,
   "metadata": {},
   "outputs": [],
   "source": [
    "from Bio.Blast import NCBIXML\n",
    "result_handle = open(\"files/\"+idname+\"_blast.xml\")\n",
    "blast_records=list(NCBIXML.parse(result_handle)) #putting the results into a list is convenient \n",
    "                                                 #to do some extra work with them\n",
    "\n",
    "\n",
    "fileh = open (\"files/seq.fasta\",\"w\")\n",
    "fileh.write(\">\"+idname+\"\\n\")\n",
    "fileh.write(sequery+\"\\n\")\n",
    "E_VALUE_THRESH = 1e-120\n",
    "for blast_record in blast_records:\n",
    "    for alignment in blast_record.alignments:\n",
    "        for hsp in alignment.hsps:\n",
    "            if hsp.expect < E_VALUE_THRESH:\n",
    "                print(\"\\nALIGNMENT\\n=========\\n\")\n",
    "                print(alignment.title)\n",
    "                fileh.write(\">\"+alignment.title+\"\\n\")\n",
    "                print(\"E value:\",hsp.expect)\n",
    "                print(hsp.query[0:75]+\"...\")\n",
    "                print(hsp.match[0:75]+\"...\")\n",
    "                print(hsp.sbjct[0:75]+\"...\")\n",
    "                fileh.write(hsp.sbjct+\"\\n\")           \n",
    "fileh.close()"
   ]
  },
  {
   "cell_type": "markdown",
   "metadata": {},
   "source": [
    "4) Now try to decide a way to select the correct protein. \n",
    "\n",
    "QUESTION: E-value based? A suggestion: use pairwise alignments and get the score using the `pairwise`module in Biopython. Try \n",
    "```\n",
    "from Bio import pairwise2\n",
    "```\n",
    "and play with the module following the instructions in [this page](https://towardsdatascience.com/pairwise-sequence-alignment-using-biopython-d1a9d0ba861f).\n",
    "\n",
    "Write the selected FASTA format sequences into a file you will need for the MSA."
   ]
  },
  {
   "cell_type": "markdown",
   "metadata": {},
   "source": [
    "5) next you will need clustal omega to run a MSA. You can get it through this instructions:\n",
    "```\n",
    "conda install -c bioconda clustalo \n",
    "conda install -c bioconda/label/cf201901 clustalo\n",
    "```\n",
    "\n",
    "QUESTION: See the example below and try to run a MSA and do it for your selected sequences"
   ]
  },
  {
   "cell_type": "code",
   "execution_count": null,
   "metadata": {},
   "outputs": [],
   "source": [
    "from Bio import AlignIO \n",
    "from Bio.Align.Applications import ClustalOmegaCommandline \n",
    "\n",
    "# use these lines to ensure clustalo can be found. This works for my installation using \n",
    "# the above conda instructions\n",
    "import os\n",
    "os.environ['PATH'] += ':~/miniconda3/bin/'\n",
    "\n",
    "# this is an example using the complete collection of sequences. You should try it with your collection\n",
    "# obtained from the BALST calculation\n",
    "file='files/seq.fasta'\n",
    "outfile='files/seq_aligned.fasta'\n",
    "cline = ClustalOmegaCommandline(infile= file, outfile= outfile, verbose=True, auto=True, force=True) \n",
    "stdout, stderr = cline() "
   ]
  },
  {
   "cell_type": "code",
   "execution_count": null,
   "metadata": {},
   "outputs": [],
   "source": [
    "print(stdout)"
   ]
  },
  {
   "cell_type": "code",
   "execution_count": null,
   "metadata": {},
   "outputs": [],
   "source": [
    "# you can check what you created:\n",
    "!cat files/seq_aligned.fasta"
   ]
  },
  {
   "cell_type": "markdown",
   "metadata": {},
   "source": [
    "Once you have the list of PDB files and the alignment you are ready to use MODELLER.\n",
    "Check the [SaliLab web site](https://salilab.org) for registration to the program.\n",
    "```\n",
    "conda config --add channels salilab\n",
    "conda install modeller\n",
    "```\n",
    "In the same site you can find examples of use.\n",
    "\n",
    "QUESTION: so, did you get how to obtain your models with MODELLER? \n"
   ]
  },
  {
   "cell_type": "markdown",
   "metadata": {},
   "source": [
    "Now you are ready to check the quality of your models with [SAVES](https://servicesn.mbi.ucla.edu/SAVES/)"
   ]
  },
  {
   "cell_type": "code",
   "execution_count": null,
   "metadata": {},
   "outputs": [],
   "source": []
  }
 ],
 "metadata": {
  "kernelspec": {
   "display_name": "Python 3",
   "language": "python",
   "name": "python3"
  },
  "language_info": {
   "codemirror_mode": {
    "name": "ipython",
    "version": 3
   },
   "file_extension": ".py",
   "mimetype": "text/x-python",
   "name": "python",
   "nbconvert_exporter": "python",
   "pygments_lexer": "ipython3",
   "version": "3.7.4"
  }
 },
 "nbformat": 4,
 "nbformat_minor": 4
}
