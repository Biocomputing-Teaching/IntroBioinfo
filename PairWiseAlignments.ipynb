{
 "cells": [
  {
   "cell_type": "markdown",
   "metadata": {},
   "source": [
    "modified from [here](https://towardsdatascience.com/pairwise-sequence-alignment-using-biopython-d1a9d0ba861f)"
   ]
  },
  {
   "cell_type": "code",
   "execution_count": 2,
   "metadata": {},
   "outputs": [],
   "source": [
    "from Bio import pairwise2\n",
    "from Bio.pairwise2 import format_alignment\n",
    "\n",
    "# Define two sequences to be aligned\n",
    "X = \"ACGGGT\"\n",
    "Y = \"GATTACCA\"\n",
    "\n",
    "\n"
   ]
  },
  {
   "cell_type": "markdown",
   "metadata": {},
   "source": [
    "The name of the function determines the type of alignment\n",
    "\n",
    "`<alignment type>XX` \n",
    "\n",
    "where `<alignment type>`can be `local` or `global` and XX is a 2 character code indicating the parameters it takes. The first character indicates the parameters for matches (and mismatches), and the second indicates the parameters for gap penalties.\n",
    "\n",
    "The match parameters are:\n",
    "\n",
    "CODE  DESCRIPTION\n",
    "* x     No parameters. Identical characters have score of 1, else 0.\n",
    "* m     A match score is the score of identical chars, else mismatch score.\n",
    "* d     A dictionary returns the score of any pair of characters.\n",
    "* c     A callback function returns scores.\n",
    "\n",
    "The gap penalty parameters are:\n",
    "\n",
    "CODE  DESCRIPTION\n",
    "* x     No gap penalties.\n",
    "* s     Same open and extend gap penalties for both sequences.\n",
    "* d     The sequences have different open and extend gap penalties.\n",
    "* c     A callback function returns the gap penalties."
   ]
  },
  {
   "cell_type": "code",
   "execution_count": 3,
   "metadata": {},
   "outputs": [
    {
     "name": "stdout",
     "output_type": "stream",
     "text": [
      "ACGGG-T-----\n",
      "    | |     \n",
      "----GATTACCA\n",
      "  Score=1.8\n",
      "\n",
      "-ACGGGT-----\n",
      " |    |     \n",
      "GA----TTACCA\n",
      "  Score=1.8\n",
      "\n",
      "ACGGG--T----\n",
      "    |  |    \n",
      "----GATTACCA\n",
      "  Score=1.8\n",
      "\n",
      "----ACGGGT--\n",
      "    ||      \n",
      "GATTAC----CA\n",
      "  Score=1.8\n",
      "\n"
     ]
    }
   ],
   "source": [
    "alignments = pairwise2.align.globalms(X, Y, 2, -1, -0.5, -0.1)\n",
    "\n",
    "# Use format_alignment method to format the alignments in the list\n",
    "for a in alignments:\n",
    "    print(format_alignment(*a))"
   ]
  },
  {
   "cell_type": "code",
   "execution_count": null,
   "metadata": {},
   "outputs": [],
   "source": []
  }
 ],
 "metadata": {
  "kernelspec": {
   "display_name": "Python 3",
   "language": "python",
   "name": "python3"
  },
  "language_info": {
   "codemirror_mode": {
    "name": "ipython",
    "version": 3
   },
   "file_extension": ".py",
   "mimetype": "text/x-python",
   "name": "python",
   "nbconvert_exporter": "python",
   "pygments_lexer": "ipython3",
   "version": "3.7.4"
  }
 },
 "nbformat": 4,
 "nbformat_minor": 4
}
