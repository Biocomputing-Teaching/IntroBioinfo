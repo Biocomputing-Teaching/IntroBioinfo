{
 "cells": [
  {
   "cell_type": "markdown",
   "metadata": {},
   "source": [
    "We will apply the modelling script to draft model protein CCNI (accession code Q14094)"
   ]
  },
  {
   "cell_type": "code",
   "execution_count": 1,
   "metadata": {},
   "outputs": [],
   "source": [
    "from Bio.Blast import NCBIWWW \n",
    "from Bio import SeqIO\n",
    "from io import StringIO\n",
    "import requests\n",
    "\n",
    "\n",
    "idname='Q14094'\n",
    "\n",
    "# retrieve info\n",
    "baseUrl=\"http://www.uniprot.org/uniprot/\"\n",
    "currentUrl=baseUrl+idname+\".fasta\"\n",
    "response = requests.post(currentUrl)\n",
    "cData=''.join(response.text)\n",
    "Seq=StringIO(cData)\n",
    "\n"
   ]
  },
  {
   "cell_type": "code",
   "execution_count": 2,
   "metadata": {},
   "outputs": [
    {
     "name": "stdout",
     "output_type": "stream",
     "text": [
      ">sp|Q14094|CCNI_HUMAN Cyclin-I OS=Homo sapiens OX=9606 GN=CCNI PE=1 SV=1\n",
      "MKFPGPLENQRLSFLLEKAITREAQMWKVNVRKMPSNQNVSPSQRDEVIQWLAKLKYQFNLYPETFALASSLLDRFLATVKAHPKYLSCIAISCFFLAAKTVEEDERIPVLKVLARDSFCGCSSSEILRMERIILDKLNWDLHTATPLDFLHIFHAIAVSTRPQLLFSLPKLSPSQHLAVLTKQLLHCMACNQLLQFRGSMLALAMVSLEMEKLIPDWLSLTIELLQKAQMDSSQLIHCRELVAHHLSTLQSSLPLNSVYVYRPLKHTLVTCDKGVFRLHPSSVPGPDFSKDNSKPEVPVRGTAAFYHHLPAASGCKQTSTKRKVEEMEVDDFYDGIKRLYNEDNVSENVGSVCGTDLSRQEGHASPCPPLQPVSVM\n",
      "Found match for Q14094\n",
      "Calling BLAST against the PDB, and saving the XML file files/Q14094_blast.xml\n",
      "Done!\n"
     ]
    }
   ],
   "source": [
    "# print in FASTA format\n",
    "sequery=\"\" \n",
    "for record in SeqIO.parse(Seq, \"fasta\"):\n",
    "    print(\">\"+record.description)\n",
    "    print(record.seq)\n",
    "    print(\"Found match for \"+idname)\n",
    "    filename=\"files/\"+idname+\"_blast.xml\"\n",
    "    print(\"Calling BLAST against the PDB, and saving the XML file \"+filename)\n",
    "    result_handle=NCBIWWW.qblast(\"blastp\", \"pdb\", record.seq, hitlist_size=100) \n",
    "    a=str(record.seq[0:4]) \n",
    "    blastXMLfh = open(filename, \"w\") \n",
    "    blastXMLfh.write(result_handle.read()) \n",
    "    blastXMLfh.close() \n",
    "    result_handle.close()\n",
    "    print(\"Done!\")\n",
    "    sequery = str(record.seq)"
   ]
  },
  {
   "cell_type": "code",
   "execution_count": 3,
   "metadata": {},
   "outputs": [
    {
     "name": "stdout",
     "output_type": "stream",
     "text": [
      "\n",
      "ALIGNMENT\n",
      "=========\n",
      "\n",
      "pdb|1W98|B Chain B, G1/s-specific Cyclin E1 [Homo sapiens]\n",
      "E value: 1.51769e-10\n",
      "VSPSQRDEVIQWLAKLKYQFNLYPETFALASSLLDRFLATVKAHPK-YLSCIAISCFFLAAKTVEEDERIPVLKV...\n",
      "+ P  R  ++ WL ++   + L+ ETF LA    DR++AT +   K  L  I IS  F+AAK   E+   P L  ...\n",
      "LQPKMRAILLDWLMEVCEVYKLHRETFYLAQDFFDRYMATQENVVKTLLQLIGISSLFIAAKL--EEIYPPKLHQ...\n",
      "found good match:  pdb|1W98|B\n",
      "retrieving PDB file:  1W98\n",
      "\n",
      "ALIGNMENT\n",
      "=========\n",
      "\n",
      "pdb|5L2W|B Chain B, G1/s-specific Cyclin-e1 [Homo sapiens]\n",
      "E value: 1.82195e-10\n",
      "VSPSQRDEVIQWLAKLKYQFNLYPETFALASSLLDRFLATVKAHPK-YLSCIAISCFFLAAKTVEEDERIPVLKV...\n",
      "+ P  R  ++ WL ++   + L+ ETF LA    DR++AT +   K  L  I IS  F+AAK   E+   P L  ...\n",
      "LQPKMRAILLDWLMEVCEVYKLHRETFYLAQDFFDRYMATQENVVKTLLQLIGISSLFIAAKL--EEIYPPKLHQ...\n",
      "found good match:  pdb|5L2W|B\n",
      "retrieving PDB file:  5L2W\n",
      "['data/1W98.pdb', 'data/5L2W.pdb']\n"
     ]
    }
   ],
   "source": [
    "from Bio.Blast import NCBIXML\n",
    "import urllib\n",
    "result_handle = open(\"files/\"+idname+\"_blast.xml\")\n",
    "blast_records=list(NCBIXML.parse(result_handle)) #putting the results into a list is convenient \n",
    "                                                 #to do some extra work with them\n",
    "\n",
    "\n",
    "fileh = open (\"files/seq.fasta\",\"w\")\n",
    "fileh.write(\">\"+idname+\"\\n\")\n",
    "fileh.write(sequery+\"\\n\")\n",
    "E_VALUE_THRESH = 1e-9\n",
    "listofknowns = []\n",
    "for blast_record in blast_records:\n",
    "    for alignment in blast_record.alignments:\n",
    "        \n",
    "        for hsp in alignment.hsps:\n",
    "            if hsp.expect < E_VALUE_THRESH:\n",
    "                print(\"\\nALIGNMENT\\n=========\\n\")\n",
    "                print(alignment.title)\n",
    "                fileh.write(\">\"+alignment.title+\"\\n\")\n",
    "                print(\"E value:\",hsp.expect)\n",
    "                print(hsp.query[0:75]+\"...\")\n",
    "                print(hsp.match[0:75]+\"...\")\n",
    "                print(hsp.sbjct[0:75]+\"...\")\n",
    "                fileh.write(hsp.sbjct+\"\\n\")   \n",
    "                print(\"found good match: \",alignment.hit_id)\n",
    "                PDBcode = alignment.hit_id.split('|')[1]\n",
    "                PDBfile = 'data/'+PDBcode+'.pdb'\n",
    "                print(\"retrieving PDB file: \",PDBcode)\n",
    "                urllib.request.urlretrieve('http://files.rcsb.org/download/'+PDBcode+'.pdb', PDBfile)\n",
    "                listofknowns.append(PDBfile)\n",
    "fileh.close()\n",
    "print(listofknowns)"
   ]
  },
  {
   "cell_type": "code",
   "execution_count": 4,
   "metadata": {},
   "outputs": [],
   "source": [
    "from Bio import AlignIO \n",
    "from Bio.Align.Applications import ClustalOmegaCommandline \n",
    "\n",
    "# use these lines to ensure clustalo can be found. This works for my installation using \n",
    "# the above conda instructions\n",
    "import os\n",
    "os.environ['PATH'] += ':~/miniconda3/bin/'\n",
    "\n",
    "# this is an example using the complete collection of sequences. You should try it with your collection\n",
    "# obtained from the BALST calculation\n",
    "file='files/seq.fasta'\n",
    "outfile='files/seq_aligned.fasta'\n",
    "cline = ClustalOmegaCommandline(infile= file, outfile= outfile, verbose=True, auto=True, force=True) \n",
    "stdout, stderr = cline() "
   ]
  },
  {
   "cell_type": "code",
   "execution_count": 5,
   "metadata": {},
   "outputs": [
    {
     "name": "stdout",
     "output_type": "stream",
     "text": [
      "Using 1 threads\n",
      "Read 3 sequences (type: Protein) from files/seq.fasta\n",
      "not more sequences (3) than cluster-size (100), turn off mBed\n",
      "Setting options automatically based on input sequence characteristics (might overwrite some of your options).\n",
      "Auto settings: Enabling mBed.\n",
      "Auto settings: Setting iteration to 1.\n",
      "Using 2 seeds (chosen with constant stride from length sorted seqs) for mBed (from a total of 3 sequences)\n",
      "Calculating pairwise ktuple-distances...\n",
      "Ktuple-distance calculation progress: 0 % (0 out of 5)\n",
      "Ktuple-distance calculation progress: 40 % (2 out of 5)\n",
      "Ktuple-distance calculation progress done. CPU time: 0.00u 0.00s 00:00:00.00 Elapsed: 00:00:00\n",
      "mBed created 1 cluster/s (with a minimum of 1 and a soft maximum of 100 sequences each)\n",
      "Distance calculation within sub-clusters: 0 % (0 out of 1)\n",
      "Distance calculation within sub-clusters done. CPU time: 0.00u 0.00s 00:00:00.00 Elapsed: 00:00:00\n",
      "Guide-tree computation (mBed) done.\n",
      "Progressive alignment progress: 50 % (1 out of 2)\n",
      "Progressive alignment progress: 100 % (2 out of 2)\n",
      "Progressive alignment progress done. CPU time: 0.01u 0.00s 00:00:00.01 Elapsed: 00:00:00\n",
      "Iteration step 1 out of 1\n",
      "Computing new guide tree (iteration step 0)\n",
      "Calculating pairwise aligned identity distances...\n",
      "Pairwise distance calculation progress: 0 % (0 out of 6)\n",
      "Pairwise distance calculation progress: 33 % (2 out of 6)\n",
      "Pairwise distance calculation progress: 50 % (3 out of 6)\n",
      "Pairwise identity calculation progress done. CPU time: 0.00u 0.00s 00:00:00.00 Elapsed: 00:00:00\n",
      "Guide-tree computation done.\n",
      "Computing HMM from alignment\n",
      "Progressive alignment progress: 50 % (1 out of 2)\n",
      "Progressive alignment progress: 100 % (2 out of 2)\n",
      "Progressive alignment progress done. CPU time: 0.04u 0.00s 00:00:00.04 Elapsed: 00:00:00\n",
      "Alignment written to files/seq_aligned.fasta\n",
      "\n"
     ]
    }
   ],
   "source": [
    "print(stdout)"
   ]
  },
  {
   "cell_type": "code",
   "execution_count": 6,
   "metadata": {},
   "outputs": [
    {
     "name": "stdout",
     "output_type": "stream",
     "text": [
      ">Q14094\r\n",
      "MKFPGPLENQRLSFLLEKAITREAQMWKVNVRKMPSNQNVSPSQRDEVIQWLAKLKYQFN\r\n",
      "LYPETFALASSLLDRFLATVKAHP-KYLSCIAISCFFLAAKTVEEDERIPVLKVLARDSF\r\n",
      "CGCSSSEILRMERIILDKLNWDLHTATPLDFLHIFHAIAVSTRPQLLFSLPKLSPSQHLA\r\n",
      "VLTKQLLHCMACNQLLQFRGSMLALAMVSLEMEKLIPDWLSLTIELLQKAQMDSSQLIHC\r\n",
      "RELVAHHLSTLQSSLPLNSVYVYRPLKHTLVTCDKGVFRLHPSSVPGPDFSKDNSKPEVP\r\n",
      "VRGTAAFYHHLPAASGCKQTSTKRKVEEMEVDDFYDGIKRLYNEDNVSENVGSVCGTDLS\r\n",
      "RQEGHASPCPPLQPVSVM\r\n",
      ">pdb|1W98|B Chain B, G1/s-specific Cyclin E1 [Homo sapiens]\r\n",
      "---------------------------------------LQPKMRAILLDWLMEVCEVYK\r\n",
      "LHRETFYLAQDFFDRYMATQENVVKTLLQLIGISSLFIAAKL--EEIYPPKLHQFAYVTD\r\n",
      "GACSGDEILTMELMIMKALKWRLSPLTIVSWLNVYMQVA---------------------\r\n",
      "------------------------------------------------------------\r\n",
      "------------------------------------------------------------\r\n",
      "------------------------------------------------------------\r\n",
      "------------------\r\n",
      ">pdb|5L2W|B Chain B, G1/s-specific Cyclin-e1 [Homo sapiens]\r\n",
      "---------------------------------------LQPKMRAILLDWLMEVCEVYK\r\n",
      "LHRETFYLAQDFFDRYMATQENVVKTLLQLIGISSLFIAAKL--EEIYPPKLHQFAYVTD\r\n",
      "GACSGDEILTMELMIMKALKWRLSPLTIVSWLNVYMQVA---------------------\r\n",
      "------------------------------------------------------------\r\n",
      "------------------------------------------------------------\r\n",
      "------------------------------------------------------------\r\n",
      "------------------\r\n"
     ]
    }
   ],
   "source": [
    "# you can check what you created:\n",
    "!cat files/seq_aligned.fasta"
   ]
  },
  {
   "cell_type": "markdown",
   "metadata": {},
   "source": [
    "Once you have the list of PDB files and the alignment you are ready to use MODELLER.\n",
    "Check the [SaliLab web site](https://salilab.org) for registration to the program.\n",
    "```\n",
    "conda config --add channels salilab\n",
    "conda install modeller\n",
    "```\n",
    "In the same site you can find examples of use.\n",
    "\n",
    "QUESTION: so, did you get how to obtain your models with MODELLER? \n"
   ]
  },
  {
   "cell_type": "code",
   "execution_count": 7,
   "metadata": {},
   "outputs": [
    {
     "name": "stdout",
     "output_type": "stream",
     "text": [
      "\n",
      "                         MODELLER 9.23, 2019/10/22, r11522\n",
      "\n",
      "     PROTEIN STRUCTURE MODELLING BY SATISFACTION OF SPATIAL RESTRAINTS\n",
      "\n",
      "\n",
      "                     Copyright(c) 1989-2019 Andrej Sali\n",
      "                            All Rights Reserved\n",
      "\n",
      "                             Written by A. Sali\n",
      "                               with help from\n",
      "              B. Webb, M.S. Madhusudhan, M-Y. Shen, G.Q. Dong,\n",
      "          M.A. Marti-Renom, N. Eswar, F. Alber, M. Topf, B. Oliva,\n",
      "             A. Fiser, R. Sanchez, B. Yerkovich, A. Badretdinov,\n",
      "                     F. Melo, J.P. Overington, E. Feyfant\n",
      "                 University of California, San Francisco, USA\n",
      "                    Rockefeller University, New York, USA\n",
      "                      Harvard University, Cambridge, USA\n",
      "                   Imperial Cancer Research Fund, London, UK\n",
      "              Birkbeck College, University of London, London, UK\n",
      "\n",
      "\n",
      "Kind, OS, HostName, Kernel, Processor: 4, Darwin M15-0003 19.4.0 x86_64\n",
      "Date and time of compilation         : 2019/10/22 14:53:24\n",
      "MODELLER executable type             : mac10v4-intel64\n",
      "Job starting time (YY/MM/DD HH:MM:SS): 2020/04/09 10:45:43\n",
      "\n",
      "read_al_373E> Protein specified in ALIGN_CODES(i) was not found\n",
      "              in the alignment file; ALIGN_CODES(       1) =  data/1W98.pdb\n"
     ]
    },
    {
     "ename": "ModellerError",
     "evalue": "read_al_373E> Protein specified in ALIGN_CODES(i) was not found in the alignment file; ALIGN_CODES(       1) =  data/1W98.pdb",
     "output_type": "error",
     "traceback": [
      "\u001b[0;31m---------------------------------------------------------------------------\u001b[0m",
      "\u001b[0;31mModellerError\u001b[0m                             Traceback (most recent call last)",
      "\u001b[0;32m<ipython-input-7-3dee80425c10>\u001b[0m in \u001b[0;36m<module>\u001b[0;34m\u001b[0m\n\u001b[1;32m     10\u001b[0m \u001b[0ma\u001b[0m\u001b[0;34m.\u001b[0m\u001b[0mstarting_model\u001b[0m \u001b[0;34m=\u001b[0m \u001b[0;36m1\u001b[0m\u001b[0;34m\u001b[0m\u001b[0;34m\u001b[0m\u001b[0m\n\u001b[1;32m     11\u001b[0m \u001b[0ma\u001b[0m\u001b[0;34m.\u001b[0m\u001b[0mending_model\u001b[0m \u001b[0;34m=\u001b[0m \u001b[0;36m5\u001b[0m\u001b[0;34m\u001b[0m\u001b[0;34m\u001b[0m\u001b[0m\n\u001b[0;32m---> 12\u001b[0;31m \u001b[0ma\u001b[0m\u001b[0;34m.\u001b[0m\u001b[0mmake\u001b[0m\u001b[0;34m(\u001b[0m\u001b[0;34m)\u001b[0m\u001b[0;34m\u001b[0m\u001b[0;34m\u001b[0m\u001b[0m\n\u001b[0m",
      "\u001b[0;32m~/opt/miniconda3/lib/python3.7/site-packages/modeller/automodel/automodel.py\u001b[0m in \u001b[0;36mmake\u001b[0;34m(self, exit_stage)\u001b[0m\n\u001b[1;32m    129\u001b[0m \u001b[0;34m\u001b[0m\u001b[0m\n\u001b[1;32m    130\u001b[0m         \u001b[0mself\u001b[0m\u001b[0;34m.\u001b[0m\u001b[0moutputs\u001b[0m \u001b[0;34m=\u001b[0m \u001b[0;34m[\u001b[0m\u001b[0;34m]\u001b[0m\u001b[0;34m\u001b[0m\u001b[0;34m\u001b[0m\u001b[0m\n\u001b[0;32m--> 131\u001b[0;31m         \u001b[0mself\u001b[0m\u001b[0;34m.\u001b[0m\u001b[0mhomcsr\u001b[0m\u001b[0;34m(\u001b[0m\u001b[0mexit_stage\u001b[0m\u001b[0;34m)\u001b[0m\u001b[0;34m\u001b[0m\u001b[0;34m\u001b[0m\u001b[0m\n\u001b[0m\u001b[1;32m    132\u001b[0m         \u001b[0;31m# Exit early?\u001b[0m\u001b[0;34m\u001b[0m\u001b[0;34m\u001b[0m\u001b[0;34m\u001b[0m\u001b[0m\n\u001b[1;32m    133\u001b[0m         \u001b[0;32mif\u001b[0m \u001b[0mexit_stage\u001b[0m \u001b[0;34m>=\u001b[0m \u001b[0;36m1\u001b[0m\u001b[0;34m:\u001b[0m\u001b[0;34m\u001b[0m\u001b[0;34m\u001b[0m\u001b[0m\n",
      "\u001b[0;32m~/opt/miniconda3/lib/python3.7/site-packages/modeller/automodel/automodel.py\u001b[0m in \u001b[0;36mhomcsr\u001b[0;34m(self, exit_stage)\u001b[0m\n\u001b[1;32m    591\u001b[0m         \u001b[0;34m\"\"\"Construct the initial model and restraints\"\"\"\u001b[0m\u001b[0;34m\u001b[0m\u001b[0;34m\u001b[0m\u001b[0m\n\u001b[1;32m    592\u001b[0m         \u001b[0;31m# Check the alignment\u001b[0m\u001b[0;34m\u001b[0m\u001b[0;34m\u001b[0m\u001b[0;34m\u001b[0m\u001b[0m\n\u001b[0;32m--> 593\u001b[0;31m         \u001b[0maln\u001b[0m \u001b[0;34m=\u001b[0m \u001b[0mself\u001b[0m\u001b[0;34m.\u001b[0m\u001b[0mread_alignment\u001b[0m\u001b[0;34m(\u001b[0m\u001b[0;34m)\u001b[0m\u001b[0;34m\u001b[0m\u001b[0;34m\u001b[0m\u001b[0m\n\u001b[0m\u001b[1;32m    594\u001b[0m \u001b[0;34m\u001b[0m\u001b[0m\n\u001b[1;32m    595\u001b[0m         \u001b[0;31m# Since in general we do not want to loose the original alignment file\u001b[0m\u001b[0;34m\u001b[0m\u001b[0;34m\u001b[0m\u001b[0;34m\u001b[0m\u001b[0m\n",
      "\u001b[0;32m~/opt/miniconda3/lib/python3.7/site-packages/modeller/automodel/automodel.py\u001b[0m in \u001b[0;36mread_alignment\u001b[0;34m(self, aln)\u001b[0m\n\u001b[1;32m    552\u001b[0m             \u001b[0maln\u001b[0m \u001b[0;34m=\u001b[0m \u001b[0malignment\u001b[0m\u001b[0;34m(\u001b[0m\u001b[0mself\u001b[0m\u001b[0;34m.\u001b[0m\u001b[0menv\u001b[0m\u001b[0;34m)\u001b[0m\u001b[0;34m\u001b[0m\u001b[0;34m\u001b[0m\u001b[0m\n\u001b[1;32m    553\u001b[0m         \u001b[0maln\u001b[0m\u001b[0;34m.\u001b[0m\u001b[0mclear\u001b[0m\u001b[0;34m(\u001b[0m\u001b[0;34m)\u001b[0m\u001b[0;34m\u001b[0m\u001b[0;34m\u001b[0m\u001b[0m\n\u001b[0;32m--> 554\u001b[0;31m         \u001b[0maln\u001b[0m\u001b[0;34m.\u001b[0m\u001b[0mappend\u001b[0m\u001b[0;34m(\u001b[0m\u001b[0mfile\u001b[0m\u001b[0;34m=\u001b[0m\u001b[0mself\u001b[0m\u001b[0;34m.\u001b[0m\u001b[0malnfile\u001b[0m\u001b[0;34m,\u001b[0m \u001b[0malign_codes\u001b[0m\u001b[0;34m=\u001b[0m\u001b[0mcodes\u001b[0m\u001b[0;34m)\u001b[0m\u001b[0;34m\u001b[0m\u001b[0;34m\u001b[0m\u001b[0m\n\u001b[0m\u001b[1;32m    555\u001b[0m         \u001b[0;32mreturn\u001b[0m \u001b[0maln\u001b[0m\u001b[0;34m\u001b[0m\u001b[0;34m\u001b[0m\u001b[0m\n\u001b[1;32m    556\u001b[0m \u001b[0;34m\u001b[0m\u001b[0m\n",
      "\u001b[0;32m~/opt/miniconda3/lib/python3.7/site-packages/modeller/alignment.py\u001b[0m in \u001b[0;36mappend\u001b[0;34m(self, file, align_codes, atom_files, remove_gaps, alignment_format, io, allow_alternates)\u001b[0m\n\u001b[1;32m     76\u001b[0m         return func(self.modpt, io.modpt, self.env.libs.modpt, align_codes,\n\u001b[1;32m     77\u001b[0m                     \u001b[0matom_files\u001b[0m\u001b[0;34m,\u001b[0m \u001b[0mfh\u001b[0m\u001b[0;34m.\u001b[0m\u001b[0mfile_pointer\u001b[0m\u001b[0;34m,\u001b[0m \u001b[0mremove_gaps\u001b[0m\u001b[0;34m,\u001b[0m \u001b[0malignment_format\u001b[0m\u001b[0;34m,\u001b[0m\u001b[0;34m\u001b[0m\u001b[0;34m\u001b[0m\u001b[0m\n\u001b[0;32m---> 78\u001b[0;31m                     allow_alternates)\n\u001b[0m\u001b[1;32m     79\u001b[0m \u001b[0;34m\u001b[0m\u001b[0m\n\u001b[1;32m     80\u001b[0m     \u001b[0;32mdef\u001b[0m \u001b[0mread\u001b[0m\u001b[0;34m(\u001b[0m\u001b[0mself\u001b[0m\u001b[0;34m,\u001b[0m \u001b[0;34m**\u001b[0m\u001b[0mvars\u001b[0m\u001b[0;34m)\u001b[0m\u001b[0;34m:\u001b[0m\u001b[0;34m\u001b[0m\u001b[0;34m\u001b[0m\u001b[0m\n",
      "\u001b[0;31mModellerError\u001b[0m: read_al_373E> Protein specified in ALIGN_CODES(i) was not found in the alignment file; ALIGN_CODES(       1) =  data/1W98.pdb"
     ]
    }
   ],
   "source": [
    "from modeller import *\n",
    "from modeller.automodel import *\n",
    "#from modeller import d\n",
    "env = environ()\n",
    "a = automodel(env, alnfile='files/seq_aligned.fasta',\n",
    "              knowns=listofknowns, sequence='qseq1',\n",
    "              assess_methods=(assess.DOPE,\n",
    "                              #soap_protein_od.Scorer(),\n",
    "                              assess.GA341))\n",
    "a.starting_model = 1\n",
    "a.ending_model = 5\n",
    "a.make()"
   ]
  },
  {
   "cell_type": "markdown",
   "metadata": {},
   "source": [
    "Now you are ready to check the quality of your models with [SAVES](https://servicesn.mbi.ucla.edu/SAVES/)"
   ]
  },
  {
   "cell_type": "code",
   "execution_count": null,
   "metadata": {},
   "outputs": [],
   "source": []
  }
 ],
 "metadata": {
  "kernelspec": {
   "display_name": "Python 3",
   "language": "python",
   "name": "python3"
  },
  "language_info": {
   "codemirror_mode": {
    "name": "ipython",
    "version": 3
   },
   "file_extension": ".py",
   "mimetype": "text/x-python",
   "name": "python",
   "nbconvert_exporter": "python",
   "pygments_lexer": "ipython3",
   "version": "3.7.6"
  }
 },
 "nbformat": 4,
 "nbformat_minor": 4
}
