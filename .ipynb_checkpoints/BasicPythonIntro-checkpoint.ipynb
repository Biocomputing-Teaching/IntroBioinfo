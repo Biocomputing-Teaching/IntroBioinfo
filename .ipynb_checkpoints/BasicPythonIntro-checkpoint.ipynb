{
 "cells": [
  {
   "cell_type": "markdown",
   "metadata": {},
   "source": [
    "# A  very simple introduction to programming with `Python`\n",
    "\n",
    "## Basic programming concepts\n",
    "\n",
    "Basic programming concepts! Only syntax change.\n",
    "\n",
    "* Programs operate on various \"data types\": integers, strings, doubles\n",
    "* Concept of variable and assignment: \n",
    "```\n",
    "Age = 3\n",
    "```\n",
    "* Expresions create and process data:\n",
    "```\n",
    "x>3\n",
    "y=x*2\n",
    "```\n",
    "* Control of flow: conditioning testing (if, else) and iterations (for, while loops)\n",
    "* Procedural programming: using functions to divide your program into logical chunks\n",
    "\n",
    "[Built-in types](https://docs.python.org/3/library/stdtypes.html)\n"
   ]
  },
  {
   "cell_type": "markdown",
   "metadata": {},
   "source": [
    "## Python\n",
    "\n",
    "* Dynamical, interpreted, object oriented programming language\n",
    "* Software quality: designed to be readable, coherent and maintainable\n",
    "* Developer productivity: very compact code (20-33\\% of the size of the corresponding java/C code): less code, so less to debug, so less to maintain, so less to learn\n",
    "\n",
    "Check [ThinkPython](https://greenteapress.com/wp/think-python-2e/) for starting material.\n",
    "\n",
    "Why Python?\n",
    "\n",
    "* Reduce the time spent in programming & debugging: OOP, testing\n",
    "* Make it easy to extend your program: code reuse (OOP)\n",
    "* Reduce the time for others to understand your program: documentation, program readability\n"
   ]
  },
  {
   "cell_type": "markdown",
   "metadata": {},
   "source": [
    "### Structure of a program\n",
    "* Programs are composed of `modules`\n",
    "* Modules contain statements\n",
    "  * Function definitions\n",
    "  * Control statements (if, while, etc)\n",
    "  * Variable assignments\n",
    "* Statements contain expressions:\n",
    "```\n",
    "x<3\n",
    "a=x*x+2\n",
    "```\n",
    "* Expressions create and process objects\n"
   ]
  },
  {
   "cell_type": "markdown",
   "metadata": {},
   "source": [
    "### Python keywords\n",
    "```\n",
    "and       del     from    not    while \n",
    "as        elif    global  or     with \n",
    "assert    else    if      pass   yield \n",
    "break     except  import  print \n",
    "class     exec    in      raise \n",
    "continue  finally is      return \n",
    "def       for     lambda  try`\n",
    "```\n"
   ]
  },
  {
   "cell_type": "markdown",
   "metadata": {},
   "source": [
    "### Numbers\n",
    "* Types: integer, floating point, long integers, bool (True, False)\n",
    "* Basic expression operators & [precedence](http://www.ibiblio.org/g2swap/byteofpython/read/operator-precedence.html)\n",
    "* Conversion: mixed types are converted up, e.g., Integers into floating point\n",
    "```\n",
    "40+3.1\n",
    "```\n"
   ]
  },
  {
   "cell_type": "markdown",
   "metadata": {},
   "source": [
    "### Dynamic typing\n",
    "* Variable types are decided at runtime\n",
    "* Variables are created when you assign values to them\n",
    "* Variables refer to an object, e.g., a number\n",
    "* The object has a type; the variable does not\n",
    "* When a variable appears in an expression, it is immediately replaced by the object it refers to\n",
    "```\n",
    "a=3\n",
    "```\n",
    "\n",
    "1. Create an object of type integer that represents the number \n",
    "1. Create variable `a` if it does not exist yet\n",
    "1. link the variable `a` to the new object `3`\n",
    "\n",
    "![Dynamic typing 1](figures/dynamic_typing_1.png)\n",
    "![Dynamic typing 2](figures/dynamic_typing_2.png)\n"
   ]
  },
  {
   "cell_type": "markdown",
   "metadata": {},
   "source": [
    "### Garbage collection\n",
    "When no variables are left that reference an object, it is destroyed (automatic memory management)\n",
    "![Dynamic typing 3](figures/dynamic_typing_3.png)\n"
   ]
  },
  {
   "cell_type": "markdown",
   "metadata": {},
   "source": [
    "### Modules\n",
    "* Every file containing python code whose name ends in `.py` is a module\n",
    "* A module usually contains a number of items e.g. Variables and functions which you can access. These items are called attributes\n",
    "* You load a module using the import statement\n",
    "* Just like a number a module is an object\n",
    "* You can reload a module after changing it using the `reload()` function\n",
    "* You access modules attributes using the `.` operator: `myModule.myAttribute`\n",
    "* Modules are the highest level way of organising your program\n",
    "* Large programs have multiple module files each of which contains related code\n"
   ]
  },
  {
   "cell_type": "markdown",
   "metadata": {},
   "source": [
    "### Documentation\n",
    "\n",
    "* Documentation is one of the core parts of good programming\n",
    "* Python contains an inbuilt documentation mechanism using \"doc strings\"\n",
    "* For modules the doc string is the first string in the module file.\n",
    "* Doc strings must be enclosed in triple quotes.\n",
    "* A modules doc string is accessible through an attribute called `__doc__`\n",
    "* More on docstrings [here](https://www.python.org/dev/peps/pep-0257/)"
   ]
  },
  {
   "cell_type": "code",
   "execution_count": null,
   "metadata": {},
   "outputs": [],
   "source": [
    "import os\n",
    "os.access.__doc__"
   ]
  },
  {
   "cell_type": "code",
   "execution_count": null,
   "metadata": {},
   "outputs": [],
   "source": [
    "def phase_of_the_moon():\n",
    "  \"\"\"\"This function returns a slightly randomized\n",
    "  integer that shuffles data around in a way\n",
    "  convenient for the XYZ class.\"\"\"\n",
    "  # Working code here.\n",
    "  return value "
   ]
  },
  {
   "cell_type": "code",
   "execution_count": null,
   "metadata": {},
   "outputs": [],
   "source": [
    "def something():\n",
    "  \"\"\"This is a first paragraph.\n",
    "\n",
    "  This is a second paragraph.  The intervening\n",
    "  blank line means this must be a new paragraph.\"\"\"\n",
    "  #  ... "
   ]
  },
  {
   "cell_type": "markdown",
   "metadata": {},
   "source": [
    "### Module attributes\n",
    "* `__doc__` is one of four special module attributes. The others are\n",
    "  * `__name__` - The module name\n",
    "  * `__file__` - The modules file name (complete path)\n",
    "  * `__builtin__` - Ignore for now* `__builtin__` - Ignore for now\n",
    "* All special names in python begin and end with `__`\n",
    "* You can see all the attributes of a module using the `dir()` function, which returns a list data type - more on lists later. `dir()`returns a list of the attributes and methods of any object: modules, functions, strings, lists, dictionaries... \n"
   ]
  },
  {
   "cell_type": "markdown",
   "metadata": {},
   "source": [
    "### The import search path\n"
   ]
  },
  {
   "cell_type": "code",
   "execution_count": null,
   "metadata": {},
   "outputs": [],
   "source": [
    "import sys                 \n",
    "print(sys)\n",
    "sys.path.append('/my/new/path') \n",
    "print(sys.path)"
   ]
  },
  {
   "cell_type": "code",
   "execution_count": null,
   "metadata": {},
   "outputs": [],
   "source": [
    "import sys, os\n",
    "print('sys.argv[0] =', sys.argv[0])             \n",
    "pathname = os.path.dirname(sys.argv[0])        \n",
    "print('path =', pathname)\n",
    "print('full path =', os.path.abspath(pathname))"
   ]
  },
  {
   "cell_type": "markdown",
   "metadata": {},
   "source": [
    "### Function basics\n",
    "[Python library: Functions](http://docs.python.org/library/functions.html)\n",
    "\n",
    "* We have already seen two functions - `reload()` \\& `dir()`\n",
    "* Functions are defined using the `def` statement\n",
    "* All code that is in the function must be indented\n",
    "* The function ends when the indentation level is the same as the def statement that created it.\n",
    "* The functions arguments are given in brackets after the name\n",
    "* Note you do not declare types in the argument list!\n",
    "* You can use any object as the arguments to a function: e.g. Numbers, modules and even other functions!"
   ]
  },
  {
   "cell_type": "code",
   "execution_count": null,
   "metadata": {},
   "outputs": [],
   "source": [
    "def mult(a, b):\n",
    "    if b == 0:\n",
    "        return 0\n",
    "    rest = mult(a, b - 1)\n",
    "    value = a + rest\n",
    "    return value\n",
    "print(\"3 * 2 = \", mult(3, 2))"
   ]
  },
  {
   "cell_type": "markdown",
   "metadata": {},
   "source": [
    "## Recursivity\n",
    "\n",
    "QUESTION:Write a function for the factorial of a number\n",
    "\n",
    "QUESTION:Write a function for counting down from a given integer"
   ]
  },
  {
   "cell_type": "code",
   "execution_count": null,
   "metadata": {},
   "outputs": [],
   "source": [
    "# example function\n",
    "def count_down(n):\n",
    "    print(n)\n",
    "    if n > 0:\n",
    "        return count_down(n-1)\n",
    " \n",
    "count_down(5)"
   ]
  },
  {
   "cell_type": "code",
   "execution_count": null,
   "metadata": {},
   "outputs": [],
   "source": [
    "# example function\n",
    "def factorial(n):\n",
    "    if n <= 1:\n",
    "        return 1\n",
    "    return n * factorial(n - 1)\n",
    " \n",
    "print(\"2! =\", factorial(2)) \n",
    "print(\"3! =\", factorial(3)) \n",
    "print(\"4! =\", factorial(4)) \n",
    "print(\"5! =\", factorial(5)) "
   ]
  },
  {
   "cell_type": "markdown",
   "metadata": {},
   "source": [
    "## More on functions\n",
    "* The function is not created until `def is executed\n",
    "* Like numbers and modules, functions are objects\n",
    "* When `def executes it creates a function object and associates a name with it.\n",
    "\n",
    "![Functions](figures/functions_1.png)\n",
    "\n",
    "## Argument values"
   ]
  },
  {
   "cell_type": "code",
   "execution_count": null,
   "metadata": {},
   "outputs": [],
   "source": [
    "def ask_ok(prompt, retries=4, complaint='Yes or no, please!'):\n",
    "    while True:\n",
    "        ok = input(prompt)\n",
    "        if ok in ('y', 'ye', 'yes'):\n",
    "            return True\n",
    "        if ok in ('n', 'no', 'nop', 'nope'):\n",
    "            return False\n",
    "        retries = retries - 1\n",
    "        if retries < 0:\n",
    "            raise IOError('refusenik user')\n",
    "        print(complaint)\n",
    "ask_ok('Do you really want to quit?')\n",
    "ask_ok('OK to overwrite the file?', 2)\n",
    "ask_ok('OK to overwrite the file?', 2, 'Come on, only yes or no!')\n"
   ]
  },
  {
   "cell_type": "markdown",
   "metadata": {},
   "source": [
    "\n",
    "## Lambda forms\n",
    "Lambda forms can be used wherever function objects are required. They are syntactically restricted to a single expression. \n"
   ]
  },
  {
   "cell_type": "code",
   "execution_count": null,
   "metadata": {},
   "outputs": [],
   "source": [
    "def make_incrementor(n):\n",
    "    return lambda x: x + n\n",
    "\n",
    "f = make_incrementor(42)\n",
    "print(f(0))\n",
    "print(f(1))"
   ]
  },
  {
   "cell_type": "markdown",
   "metadata": {},
   "source": [
    "## Function documentation\n",
    "\n",
    "* Like modules functions can also have doc strings.\n",
    "* The doc string is the first string after the function definition.\n",
    "* It must be enclosed in triple quotes ''' '''.\n",
    "* It is accessible through the attribute `__doc__`.\n",
    "\n",
    "## Objects and attributes\n",
    "* In python everything is an object.\n",
    "* Numbers\n",
    "* Functions\n",
    "* Modules\n",
    "* In python all objects have attributes\n",
    "* The `dir()` function lists the attributes of any object\n",
    "* Remember objects also have types\n",
    "* Functions are of type function\n",
    "* Integers have type int etc.\n",
    "* Use the `type()` function to get an objects type.\n",
    "\n"
   ]
  },
  {
   "cell_type": "code",
   "execution_count": null,
   "metadata": {},
   "outputs": [],
   "source": [
    "def function(n):\n",
    "    \"\"\"Print square values up to n.\"\"\"\n",
    "    print('square values in the interval [', -n,',',n,']')\n",
    "    i=0\n",
    "    for x2 in range(-n, n+1):\n",
    "        print(x2,x2**2)\n",
    "\n",
    "def fib(n):    \n",
    "    # write Fibonacci series up to n\n",
    "    \"\"\"Print a Fibonacci series up to n.\"\"\"\n",
    "    print('\\nFibonacci serie up to ', n)\n",
    "    a, b = 0, 1\n",
    "    while b<n:\n",
    "        print(b,)\n",
    "        a,b=b,a+b\n",
    "\n",
    "\n",
    "n0 = int(input(\"Please enter an integer: \"))\n",
    "\n",
    "if n0 < 0:\n",
    "    n0 = abs(n0)\n",
    "    print('Negative changed to absolute value', x)\n",
    "function(n0)\n",
    "fib(n0)\n"
   ]
  },
  {
   "cell_type": "markdown",
   "metadata": {},
   "source": [
    "\n",
    "QUESTION:Create a module called `firstExercise.py`.  Define the following functions and variables in the module:\n",
    "* A function called `objectDocumention` which takes one argument and returns the doc string of the argument.\n",
    "* A function called `objectName` which takes one argument and returns its `__name__` attribute.\n",
    "* A function called `multiply(a, b)` which returns `a * b`. Try passing objects other than numbers.\n",
    "* A function called `integerMultiply(a,b)` which converts its arguments to integers before multiplying them. Hint: Use the function `int()` to convert objects to integers. Try with mixed numbers and strings.\n",
    "* Load the module from the interactive shell and test it. \n",
    "\n",
    "QUESTION:Write a program (Python script) named `madlib.py`, which asks the user to enter a series of nouns, verbs, adjectives, adverbs, plural nouns, past tense verbs, etc., and then generates a paragraph which is syntactically correct but semantically ridiculous.\n",
    "\n",
    "## Coercion\n",
    "* Converting an object from one type to another is called coercion\n",
    "```\n",
    ">>> x=2\n",
    ">>> y=3.\n",
    ">>> coerce(x,y)\n",
    "(2.0, 3.0)\n",
    "```\n",
    "* However not all objects can be coerced.\n",
    "* When performing numeric operations the object with the smaller type is converted to the larger type.\n",
    "* When using `and` or `or` the left hand operand is converted to a bool.\n",
    "* The standard coercion functions for the types we have seen so far are `int()`, `float()`, `str()`, `bool()`\n",
    "\n",
    "## Bool conversions\n",
    "* Any non-zero number or non-empty object converts to `True`\n",
    "* A zero number or an empty object is `False`.\n",
    "\n",
    "## Operator overloading\n",
    "* Operators that perform different actions depending on the types of the operands are said to be {\\em overloaded\n",
    "* `*`\n",
    "* Multiplies when the operands are both numbers\n",
    "* Replicates when one is a number and the other a string\n",
    "* `+`\n",
    "* Adds when the operands are both numbers\n",
    "* Concatenates when the operands are both strings.\n",
    "* Many operators in python are overloaded.\n",
    "* Notice that when the operands do not support the operator python raises an error. There is no point in checking your self.\n",
    "* Also when the operators meaning is ambiguous an error is raised: using `+` with a string and a number - addition or concatenation?\n",
    "\n",
    "## Some other terminology\n",
    "* Assigning an object to a name e.g. `a = 3, `firstFunction = secondFunction, is often called {\\em binding.\n",
    "* Changing  what a name refers to is called {\\em rebinding.\n",
    "* `a = 3` Binds the name a to the object 3\n",
    "* `a = \"aString\"` Rebinds the name a to the object \"aString\"\n",
    "\n",
    "## Strings\n",
    "* A string is an ordered collection of characters.\n",
    "* They are immutable i.e. They cannot be changed.\n",
    "* You can create strings using \n",
    "* Double quotes - \"\"\n",
    "* Single quotes - ''\n",
    "* Triple quotes ''' ''' - i.e. Doc strings.\n",
    "* Double and single quotes are the same\n",
    "* Triple quotes create block strings which can span multiple lines."
   ]
  },
  {
   "cell_type": "code",
   "execution_count": null,
   "metadata": {},
   "outputs": [],
   "source": [
    "hello = \"This is a rather long string containing\\n\\\n",
    "several lines of text just as you would do in C.\\n\\\n",
    "    Note that whitespace at the beginning of the line is\\\n",
    " significant.\"\n",
    "\n",
    "print(hello)"
   ]
  },
  {
   "cell_type": "markdown",
   "metadata": {},
   "source": [
    " \n",
    "## Basic String Operations\n",
    "* We've already seen `*` (replicate) and `+` (concatenate)\n",
    "* Since strings are ordered collection of characters we can access their components by {\\em indexing\n",
    "* The first character in the string has position 0.\n",
    "* The position of the last character is equal to the number of characters in the string -1.\n",
    "* `[]` is the index operator\n",
    "* `aString = \"Genial\"`\n",
    "* `aString[1]`\n",
    "*  You can also index from the end using negative numbers\n",
    "* `aString[-1]` (This is the position = number of characters in the string -1)\n",
    "* `\"Genial\"` length is 6\n",
    "* `\"Genial\"[-1]` is position `6 - 1 = 5 (\"l\")`\n",
    "\n",
    "## Slicing\n",
    "* Slicing takes specified parts of a string and creates a new string.\n",
    "* `[start:end]` Take from position start up to but not including position end\n",
    "* `Astring[1:3]`\n",
    "* If `start` is blank i.e. `[:end]`. It means from the first position\n",
    "* If `end` is blank i.e. `[start:]`. It means go to the last position\n",
    "* Extended slicing `[start:end:step]`\n",
    "* `[1:10:2]` - Get the characters from 1 to 10 taking steps of 2.\n",
    "\n",
    "## String examples\n"
   ]
  },
  {
   "cell_type": "code",
   "execution_count": null,
   "metadata": {},
   "outputs": [],
   "source": [
    "word = 'Help' + 'A'\n",
    "print(word)\n",
    "'<' + word*5 + '>'"
   ]
  },
  {
   "cell_type": "markdown",
   "metadata": {},
   "source": [
    "Some examples:\n",
    "\n",
    "```\n",
    ">>> 'str' 'ing'                   #  <-  This is ok\n",
    "'string'\n",
    ">>> 'str'.strip() + 'ing'   #  <-  This is ok\n",
    "'string'\n",
    ">>> 'str'.strip() 'ing'     #  <-  This is invalid\n",
    "  File \"<stdin>\", line 1, in ?\n",
    "    'str'.strip() 'ing'\n",
    "                      ^\n",
    "SyntaxError: invalid syntax\n",
    "```\n"
   ]
  },
  {
   "cell_type": "code",
   "execution_count": null,
   "metadata": {},
   "outputs": [],
   "source": [
    "word[0] = 'x' # ERROR! you cannot assign an item to a str object or part of it. In other words..\n",
    "              # ... str are ummutable"
   ]
  },
  {
   "cell_type": "code",
   "execution_count": null,
   "metadata": {},
   "outputs": [],
   "source": [
    "print(word[-2:])    # The last two characters\n",
    "print(word[-100:])\n",
    "print(word[-10])    # ERROR"
   ]
  },
  {
   "cell_type": "markdown",
   "metadata": {},
   "source": [
    "![Table showing str indexes](figures/tableStringIndex.png)\n"
   ]
  },
  {
   "cell_type": "code",
   "execution_count": null,
   "metadata": {},
   "outputs": [],
   "source": [
    "string1 = \"A, B, C, D, E, F\"\n",
    "\n",
    "print(\"String is:\", string1)\n",
    "print(\"Split string by spaces:\", string1.split())\n",
    "print(\"Split string by commas:\", string1.split( \",\" ))\n",
    "print(\"Split string by commas, max 2:\", string1.split( \",\", 2 ))"
   ]
  },
  {
   "cell_type": "markdown",
   "metadata": {},
   "source": [
    "Removing leading and/or trailing characters in a string:\n"
   ]
  },
  {
   "cell_type": "code",
   "execution_count": null,
   "metadata": {},
   "outputs": [],
   "source": [
    "string1 = \"\\t  \\n  This is a test string. \\t\\t \\n\"\n",
    "print('Original string: \"%s\"\\n' % string1)\n",
    "print('Using strip: \"%s\"\\n' % string1.strip())\n",
    "print('Using left strip: \"%s\"\\n' % string1.lstrip())\n",
    "print('Using right strip: \"%s\"\\n' % string1.rstrip())"
   ]
  },
  {
   "cell_type": "markdown",
   "metadata": {},
   "source": [
    "\n",
    "\n",
    "## Lists\n",
    "* Lists contain ordered collections of any type of object: Numbers, strings, other lists.\n",
    "* List Properties:\n",
    "* Mutable\n",
    "* Can change the object at any position\n",
    "* Can add and remove items from a list (more later)\n",
    "*  Heterogenous\n",
    "* Can contain a mixture of data\n",
    "* Creating a list\n",
    "* `myList = []` \n",
    "* `myList = [3, 4, \"Jordi\"]`\n",
    "* `myList = [\"aString\", [3, 4, \"Jordi\"]]`\n",
    "## List Operations\n",
    "* A list like a string is a sequence. All the operators that work on strings work on lists (more {\\em overloading\n",
    "* `*` (replication)\n",
    "* `+` (concatenation)\n",
    "* `[]` (indexing)\n",
    "* `[:]` (slicing)\n",
    "* In addition a list is mutable - you can assign to list positions\n",
    "* Index assignment: `myList[3] = \"Hello\"` \n",
    "* Slice assignment: `MyList[0:3] = [0,1]` (Two steps: Deletion - the slice on the left is deleted; Insertion - the slice on the right is inserted in its place.\n",
    "\n",
    "## List Operations\n",
    "* Trying to access a position that does not exist in a sequence is an error\n",
    "* The function `len()` returns the number of items in a sequence.\n",
    "* There are two more sequence operators\n",
    "* `x` in sequence evaluates as True if the object x is in the sequence or false if its not.  e.g. `3 in [1,2,3]`, `\"J\" in \"Jordi\"`\n",
    "* `x` not in sequence,  the opposite of in.\n",
    "\n",
    "## Examples with lists\n"
   ]
  },
  {
   "cell_type": "markdown",
   "metadata": {},
   "source": [
    "```\n",
    ">>> q = [2, 3]\n",
    ">>> p = [1, q, 4]\n",
    ">>> len(p)\n",
    "3\n",
    ">>> p[1]\n",
    "[2, 3]\n",
    ">>> p[1][0]\n",
    "2\n",
    ">>> p[1].append('xtra')\n",
    ">>> p\n",
    "[1, [2, 3, 'xtra'], 4]\n",
    ">>> q\n",
    "[2, 3, 'xtra']\n",
    "```"
   ]
  },
  {
   "cell_type": "markdown",
   "metadata": {},
   "source": [
    "\n",
    "## Shallow vs Deep list copy\n",
    "Shallow Copy: (copies chunks of memory from one location to another)\n"
   ]
  },
  {
   "cell_type": "code",
   "execution_count": null,
   "metadata": {},
   "outputs": [],
   "source": [
    "a = ['one','two','three']\n",
    "b = a[:]\n",
    "b[1] = 2\n",
    "print(id(a), a) #Output: 1077248300 ['one', 'two', 'three']\n",
    "print(id(b), b) #Output: 1077248908 ['one', 2, 'three']\n"
   ]
  },
  {
   "cell_type": "markdown",
   "metadata": {},
   "source": [
    "Deep Copy: (Copies object reference)\n"
   ]
  },
  {
   "cell_type": "code",
   "execution_count": null,
   "metadata": {},
   "outputs": [],
   "source": [
    "a = ['one','two','three']\n",
    "b = a\n",
    "b[1] = 2\n",
    "print(id(a), a) #Output: 1077248300 ['one', 2, 'three']\n",
    "print(id(b), b) #Output: 1077248300 ['one', 2, 'three']\n"
   ]
  },
  {
   "cell_type": "markdown",
   "metadata": {},
   "source": [
    "\n",
    "## The `del` statement\n"
   ]
  },
  {
   "cell_type": "code",
   "execution_count": null,
   "metadata": {},
   "outputs": [],
   "source": [
    "a = [-1, 1, 66.25, 333, 333, 1234.5]\n",
    "del a[0]\n",
    "print(a)\n",
    "del a[2:4]\n",
    "print(a)\n",
    "del a[:]\n",
    "print(a)"
   ]
  },
  {
   "cell_type": "markdown",
   "metadata": {},
   "source": [
    "\n",
    "## `if` statement\n",
    "\n",
    "```\n",
    "if test1:\n",
    "\t<statements1>\n",
    "elif test2:\n",
    "\t<statements2>\n",
    "else:\n",
    "\t<statements3>\n",
    "```"
   ]
  },
  {
   "cell_type": "markdown",
   "metadata": {},
   "source": [
    "* All code that exists in the if statement must be indented (there are no braces etc.)\n",
    "* Expression is any python expression that evaluates to a boolean i.e `True` or `False`"
   ]
  },
  {
   "cell_type": "code",
   "execution_count": null,
   "metadata": {},
   "outputs": [],
   "source": [
    "x = int(input(\"Please enter an integer: \"))\n",
    "if x < 0:\n",
    "    x = 0\n",
    "    print('Negative changed to zero')\n",
    "elif x == 0:\n",
    "    print('Zero')\n",
    "elif x == 1:\n",
    "    print('Single')\n",
    "else:\n",
    "    print('More')\n"
   ]
  },
  {
   "cell_type": "markdown",
   "metadata": {},
   "source": [
    "\n",
    "## `while`  loop\n",
    "\n",
    "```\n",
    "while test:\n",
    "\t<statements>\n",
    "```\n",
    "*  Repeatedly executes `<statements>` until `test` is true"
   ]
  },
  {
   "cell_type": "code",
   "execution_count": null,
   "metadata": {},
   "outputs": [],
   "source": [
    "# Fibonacci series:\n",
    "# the sum of two elements defines the next\n",
    "a, b = 0, 1\n",
    "while b < 100:\n",
    "    print(b)\n",
    "    a, b = b, a+b"
   ]
  },
  {
   "cell_type": "markdown",
   "metadata": {},
   "source": [
    "\n",
    "## `for` loop\n",
    "\n",
    "```\n",
    "for <target> in <object>:\n",
    "\t<statements>\n",
    "```"
   ]
  },
  {
   "cell_type": "markdown",
   "metadata": {},
   "source": [
    "* When python runs this loop it assigns the elements in `<object>`, one by one to the variable `<target>`\n",
    "* Remember `<target>` is only a reference to an item in the sequence. Rebinding `<target>` does not change the item in the sequence.\n",
    "* To change the elements of a list you need to use the `range()` function.\n",
    "\n",
    "QUESTION:try changing the characters of `\"Peter\"` to `\"Roman\"` by different methods (use while, for, ...)\n",
    "\n",
    "## `for` loop examples\n"
   ]
  },
  {
   "cell_type": "code",
   "execution_count": null,
   "metadata": {},
   "outputs": [],
   "source": [
    ">>> # Measure some strings:\n",
    "a = ['cat', 'window', 'defenestrate']\n",
    "for x in a:\n",
    "    print(x, len(x))"
   ]
  },
  {
   "cell_type": "code",
   "execution_count": null,
   "metadata": {},
   "outputs": [],
   "source": [
    "for x in a[:]: # make a slice copy of the entire list\n",
    "    if len(x) > 6: a.insert(0, x)\n",
    "print(a)"
   ]
  },
  {
   "cell_type": "markdown",
   "metadata": {},
   "source": [
    "`a.insert(len(a), x)` is equivalent to `a.append(x)`"
   ]
  },
  {
   "cell_type": "code",
   "execution_count": null,
   "metadata": {},
   "outputs": [],
   "source": [
    "a = ['Mary', 'had', 'a', 'little', 'lamb']\n",
    "for i in range(len(a)):\n",
    "    print(i, a[i])"
   ]
  },
  {
   "cell_type": "markdown",
   "metadata": {},
   "source": [
    "\n",
    "## Loop statements\n",
    "* `break` Jumps out of the innermost loop. Use when you want a loop to end immediately due to some condition being reached\n",
    "* `continue` Jumps to the top of the innermost loop. Use when you dont want to execute any more code for this iteration\n",
    "* `pass` for empty loops\n",
    "* `else` block, Executed if a loop was not exited due to a break statement \n",
    "\n",
    "## Some examples\n"
   ]
  },
  {
   "cell_type": "code",
   "execution_count": null,
   "metadata": {},
   "outputs": [],
   "source": [
    "for n in range(2, 10):\n",
    "    for x in range(2, n):\n",
    "        if n % x == 0:\n",
    "            print(n, 'equals', x, '*', n/x)\n",
    "            break\n",
    "        else:\n",
    "            # loop fell through without finding a factor\n",
    "            print(n, 'is a prime number')"
   ]
  },
  {
   "cell_type": "markdown",
   "metadata": {},
   "source": [
    "Example of using `pass`:\n",
    "```\n",
    "while True:\n",
    "    pass  # Busy-wait for keyboard interrupt (Ctrl+C)\n",
    "```"
   ]
  },
  {
   "cell_type": "markdown",
   "metadata": {},
   "source": [
    "\n",
    "## List comprehensions\n"
   ]
  },
  {
   "cell_type": "code",
   "execution_count": null,
   "metadata": {},
   "outputs": [],
   "source": [
    "li = [1, 9, 8, 4]     \n",
    "print(li)                           \n",
    "li = [elem*2 for elem in li] \n",
    "print(li)"
   ]
  },
  {
   "cell_type": "markdown",
   "metadata": {},
   "source": [
    " look at it from right to left. `li` is the list you're mapping\n"
   ]
  },
  {
   "cell_type": "code",
   "execution_count": null,
   "metadata": {},
   "outputs": [],
   "source": [
    "vec1 = [2, 4, 6]\n",
    "vec2 = [4, 3, -9]\n",
    "print([x*y for x in vec1 for y in vec2])\n",
    "print([x+y for x in vec1 for y in vec2])\n",
    "print([vec1[i]*vec2[i] for i in range(len(vec1))])\n",
    "print([str(round(355/113.0, i)) for i in range(1,6)])"
   ]
  },
  {
   "cell_type": "code",
   "execution_count": null,
   "metadata": {},
   "outputs": [],
   "source": [
    "params = {\"server\":\"mpilgrim\", \"database\":\"master\", \"uid\":\"sa\", \"pwd\":\"secret\"}\n",
    "[\"%s=%s\" % (k, v) for k, v in params.items()]\n",
    "\";\".join([\"%s=%s\" % (k, v) for k, v in params.items()])"
   ]
  },
  {
   "cell_type": "markdown",
   "metadata": {},
   "source": [
    "\n",
    "## Files\n",
    "* The file object in python represents a file that you can read from and write to\n",
    "* Unlike the other python objects you can not use operators on them e.g. `+, `*, `[] etc.\n",
    "* Creation\n",
    "```\n",
    "myFile = open(location)\n",
    "```\n",
    "* Some Methods\n",
    "  * `read()\n",
    "  * `readline()\n",
    "  * `readlines()\n",
    "  * `write()\n",
    "  * `writelines()\n",
    "  * `close()\n",
    "\n",
    "## File manipulation examples\n",
    "\n",
    "[Input/Output](http://docs.python.org/tutorial/inputoutput.html)\n"
   ]
  },
  {
   "cell_type": "code",
   "execution_count": null,
   "metadata": {},
   "outputs": [],
   "source": [
    "fileHandle = open('test.txt', 'w') # write mode\n",
    "fileHandle.write('Testing files in Python.\\neasily')\n",
    "fileHandle.close()\n",
    "fileHandle = open('test.txt', 'a') # append mode\n",
    "fileHandle.write('\\n\\n\\nBottom line.')\n",
    "fileHandle.close()\n",
    "fileHandle = open('test.txt') # read mode (default)\n",
    "print(fileHandle.read())\n",
    "fileHandle.close()\n"
   ]
  },
  {
   "cell_type": "markdown",
   "metadata": {},
   "source": [
    "\n",
    "## File manipulation examples\n"
   ]
  },
  {
   "cell_type": "code",
   "execution_count": null,
   "metadata": {},
   "outputs": [],
   "source": [
    "fileHandle = open ( 'test.txt' )\n",
    "print(fileHandle.readline()) \n",
    "print(fileHandle.tell()) # position within the file\n",
    "print(fileHandle.readline())\n",
    "fileHandle = open ( 'test.txt' )\n",
    "print(fileHandle.read ( 1 ))\n",
    "print(fileHandle.seek ( 4 ))\n",
    "print(fileHandle.read ( 1 )) "
   ]
  },
  {
   "cell_type": "markdown",
   "metadata": {},
   "source": [
    "\n",
    "## More sophisticated file manipulation\n",
    "http://docs.python.org/library/glob.html\n"
   ]
  },
  {
   "cell_type": "code",
   "execution_count": null,
   "metadata": {},
   "outputs": [],
   "source": [
    "import os, glob, shutil\n",
    "from os.path import expanduser\n",
    "\n",
    "home = expanduser(\"~\") #adding your $HOME directory to th\n",
    "\n",
    "'''\n",
    "file_ext = input(\"Extension for the files:\\n\")\n",
    "file_count = int(input(\"Files count in each new dir:\\n\"))\n",
    "dir_base_name = input(\"name base for dirs:\\n\")\n",
    "'''\n",
    "file_ext = \"fasta\"\n",
    "file_count = 10\n",
    "dir_base_name = home+'/Downloads/'\n",
    "filenames = glob.glob(('files/*.' + file_ext)) \n",
    "filenames.sort()\n",
    "print(filenames)\n",
    "dir_number = 0\n",
    "while filenames:\n",
    "    dir_number += 1\n",
    "    new_dir = dir_base_name + str(dir_number)\n",
    "    os.mkdir(new_dir)\n",
    "    for n in range(min(file_count, len(filenames))):\n",
    "        src_file = filenames.pop(0)\n",
    "        shutil.copy(src_file, new_dir)\n",
    "        os.unlink(src_file)\n"
   ]
  },
  {
   "cell_type": "markdown",
   "metadata": {},
   "source": [
    "\n",
    "## Methods\n",
    "* We have seen that everything in python is an object and that all objects have attributes. The attributes can have different types e.g string, int, function\n",
    "* Another type of attribute an object can have is called a {\\em method\n",
    "* An objects methods are special functions that operate on the object itself. \n",
    "* invoked with `object.method()` the method does something with object\n",
    "* Some objects like modules have no methods or very rarely used methods e.g. Functions and numbers.\n",
    "* Lists and strings have many very commonly used methods.\n",
    "\n",
    "## Example: String methods\n",
    "* Here are some string methods\n",
    "* `capitalize`\n",
    "* `count`\n",
    "* `find`\n",
    "* `index`\n",
    "* `split`\n",
    "* Some methods take arguments, others don't.\n",
    "* Check [String Methods](https://docs.python.org/3/library/string.html).\n",
    "* Check [Built-in types](https://docs.python.org/3/library/stdtypes.html).\n",
    "\n",
    "## Object attributes\n",
    "* We have seen that objects can have many attributes and that all attributes are objects. (Remember `dir()`)\n",
    "* Generally an object's attributes are divided into two types\n",
    "* Callable - They can perform some action and return a result: Functions, methods\n",
    "* Not callable - Everything else (strings, lists, numbers etc.)\n",
    "* You can check if an object is callable using the `callable()` function.\n",
    "* Another useful function is `getattr()`. It returns an attribute of an object if you know its name as a string."
   ]
  },
  {
   "cell_type": "code",
   "execution_count": null,
   "metadata": {},
   "outputs": [],
   "source": [
    "li = [\"Larry\", \"Curly\"]\n",
    "print(getattr(li, \"pop\"))           "
   ]
  },
  {
   "cell_type": "markdown",
   "metadata": {},
   "source": [
    "\n",
    "## Augmented assignment\n",
    "* Based on C\n",
    "* Short hand for writing common expressions\n",
    "* Traditional: `X = X + Y`\n",
    "* Augmented: `X += Y`\n",
    "* `X *= Y`, `X -=Y`, `X /= Y` etc.\n",
    "* Less typing\n",
    "* Automatically chooses optimal method\n",
    "```\n",
    "L = L + [3,4]\n",
    "L.extend([3,4])\n",
    "L += [3,4] # Automatically chooses extend\n",
    "```\n",
    "\n",
    "## String formatting\n",
    "`\\%`\n",
    "* Format operator.\n",
    "* You place a string to the right of the operator with conversion targets embedded in it.\n",
    "* A conversion target is a `\\%` followed by a letter. The letter indicates the conversion to be performed\n",
    "* On the right of the format operator you place, in parentheses, one object for each conversion target in the string.\n",
    "* Python inserts each object into the string, the first at the first conversion target etc, performing the necessary conversion first.\n",
    "* `\"Name \\%s. Age \\%d\" \\% (\"Joe\", 52)`\n",
    "\n",
    "## Extended formatting\n",
    "* Since all basic objects in python have a string description usually `\\%s` is all thats needed\n",
    "* However with numbers more control is often required: `\\%d`, `\\%e`, `\\%E`, `\\%f`\n",
    "* Extended formatting syntax: `\\%[flags][width][.precision]code`\n",
    "* Flags:\n",
    "  * `-`   left justify\n",
    "  * `+`  add plus for positive numbers\n",
    "  * `0`  pad with zeros\n",
    "* Width is the maximum width the conversion can have\n",
    "  * `.precision` is the number of places after the decimal point.\n",
    "\n",
    "## String formatting vs. concatenating\n"
   ]
  },
  {
   "cell_type": "code",
   "execution_count": null,
   "metadata": {},
   "outputs": [],
   "source": [
    "uid = \"sa\"\n",
    "pwd = \"secret\"\n",
    "print(pwd + \" is not a good password for \" + uid)      \n",
    "print(\"%s is not a good password for %s\" % (pwd, uid)) \n",
    "userCount = 6\n",
    "print(\"Users connected: %d\" % (userCount, )  )          \n",
    "print(\"Users connected: \" + userCount)          # Error, trying to concatenate str with int        "
   ]
  },
  {
   "cell_type": "markdown",
   "metadata": {},
   "source": [
    "## Tuples\n",
    "* A tuple is an immutable list with no methods\n",
    "* Ordered collection of arbitrary objects\n",
    "* Creation \n",
    "  * `()` e.g. `(3, \"Name\")` \n",
    "  * `,` e.g. `3, \"Name`  (Not advisable)\n",
    "* A tuple with a single element is a special case: `(40,)` - require a trailing comma\n",
    "* Can be operated on by all the immutable sequence operators\n",
    "  * `*`, `+`, `[]`, `[:]`, `in` \n",
    "* Accessed by position starting from 0\n",
    "* Use `len()` to get length of a tuple\n",
    "* Note than only the tuple is immutable. Mutable objects in a tuple are still mutable.\n",
    "* Tuples provide integrity (one needs to be sure that something cannot be changed)\n",
    "\n",
    "## Using tuples to assign values\n",
    "```\n",
    ">>> v = ('a', 'b', 'e')\n",
    ">>> (x, y, z) = v     \n",
    ">>> x\n",
    "'a'\n",
    ">>> y\n",
    "'b'\n",
    ">>> z\n",
    "'e'\n",
    "```\n",
    "`v` is a tuple of three elements, and `(x, y, z)` is a tuple of three variables. \n",
    "\n",
    "## Sequence conversion\n",
    "* Like `int()`, `float()` etc. there are functions for converting objects to lists & tuples.\n",
    "  * `list()`\n",
    "  * `tuple()`\n",
    "* These functions can only coerce objects that are also sequences i.e. strings, lists, tuples\n",
    "  * `list(3)` - will not work\n",
    "  * `list(\"3\")` - will work\n",
    "\n",
    "## Sequence functions\n",
    "* `filter()`\n",
    "  * Filters the elements of a sequence based on a function and produces a new sequence\n",
    "* `map()`\n",
    "  * Applies a function to every element of a sequence and returns a list of the results. \n",
    "  * It can be used with multiple lists\n",
    "* `zip()`\n",
    "  * Takes any number of lists as arguments\n",
    "  * Returns a list of tuples where the first contains the first element of each sequence, the second the second element of each etc."
   ]
  },
  {
   "cell_type": "code",
   "execution_count": null,
   "metadata": {},
   "outputs": [],
   "source": [
    "foo = [2, 18, 9, 22, 17, 24, 8, 12, 27]\n",
    "print(filter(lambda x: x % 3 == 0, foo))\n",
    "print(map(lambda x: x * 2 + 10, foo))"
   ]
  },
  {
   "cell_type": "markdown",
   "metadata": {},
   "source": [
    "### Example of the use of `filter`"
   ]
  },
  {
   "cell_type": "code",
   "execution_count": null,
   "metadata": {},
   "outputs": [],
   "source": [
    "def odd(n):           \n",
    "     return n%2\n",
    "     \n",
    "li = [1, 2, 3, 5, 9, 10, 256, -3]\n",
    "filter(odd, li)       \n",
    "filteredList = []\n",
    "for n in li:          \n",
    "    if odd(n):\n",
    "        filteredList.append(n)\n",
    "print(filteredList)"
   ]
  },
  {
   "cell_type": "markdown",
   "metadata": {},
   "source": [
    "* `odd` returns 1 if n is odd and 0 if n is even.\n",
    "* `filter` takes two arguments, a function (odd) and a list (li). It loops through the list and calls odd per element.\n",
    "* You could accomplish the same thing with a for loop. But at the cost of less compact code. \n",
    "\n",
    "### Example of the use of `zip`\n"
   ]
  },
  {
   "cell_type": "code",
   "execution_count": null,
   "metadata": {},
   "outputs": [],
   "source": [
    "mat = [\n",
    "       [1, 2, 3],\n",
    "       [4, 5, 6],\n",
    "       [7, 8, 9],\n",
    "      ]\n",
    "a =zip(*mat)\n",
    "print(list(a))"
   ]
  },
  {
   "cell_type": "code",
   "execution_count": null,
   "metadata": {},
   "outputs": [],
   "source": [
    "names = [\"Jesus\",\"Marc\",\"Michal\",\"Graham\"]\n",
    "places = [\"Spain\",\"USA\",\"Poland\",\"UK\"]\n",
    "combo = zip(names,places)\n",
    "who = dict(combo)\n",
    "print(who)"
   ]
  },
  {
   "cell_type": "markdown",
   "metadata": {},
   "source": [
    "\n",
    "### Examples of the use of `map`\n"
   ]
  },
  {
   "cell_type": "code",
   "execution_count": null,
   "metadata": {},
   "outputs": [],
   "source": [
    "# let us split a sentence and count how many characters each word contains\n",
    "# first we split it\n",
    "listofWords = 'It is raining cats and dogs'.split()\n",
    "# now we apply the function len to each word\n",
    "# take notice that map returns an iterator, which we can then convert into a list\n",
    "listofLengths = list(map(lambda w: len(w),listofWords))\n",
    "print(listofLengths)"
   ]
  },
  {
   "cell_type": "markdown",
   "metadata": {},
   "source": [
    "\n",
    "\n",
    "\n",
    "### Exercises\n",
    "\n",
    "QUESTION:Write a code that computes the prime numbers up to 50 (hint: use the `filter()` function)\n",
    "\n",
    "QUESTION:Write a code that writes a value table `(x,f(x))` for `f(x)=sin(x)` (hint: use the `map()` function)\n",
    "\n",
    "\n",
    "## Dictionaries\n",
    "\n",
    "* Dictionaries are mappings and so are iterable (see [https://realpython.com/iterate-through-dictionary-python/](https://realpython.com/iterate-through-dictionary-python/))\n",
    "* Unordered collection of objects (Python 3 includes order)\n",
    "* Access items via a key (case sensitive)\n",
    "* Very fast retrieval\n",
    "* Mutable\n",
    "* Creation\n",
    "  * `{}` - an empty dictionary\n",
    "  * `{'age': 40, 'name': \"unknown\"}`\n",
    "\n",
    "### Example dictionaries\n"
   ]
  },
  {
   "cell_type": "code",
   "execution_count": null,
   "metadata": {},
   "outputs": [],
   "source": [
    "d = {\"server\":\"mpilgrim\", \"database\":\"master\"}\n",
    "print(d[\"server\"])                                    \n",
    "print(d[\"database\"])   \n",
    "d[\"database\"] = \"pubs\" \n",
    "d[\"uid\"] = \"sa\"     # adding a keyword   \n",
    "print(d)\n",
    "del d['uid']        # removing a keyword\n",
    "print(d)\n",
    "\n",
    "# another practical way of creating a dictionary. \n",
    "keys = ['pere','manel','jordi','aina','teresa']\n",
    "values = [25,'pèsols','[1,2,3]',d]\n",
    "print(zip(keys,values))\n",
    "d2 = dict(zip(keys, values))\n",
    "\n",
    "\n",
    "pk = input('give me the name of a possible key in your dictionary: ')\n",
    "if pk in d2:\n",
    "    print(pk,' is a key')\n",
    "else:\n",
    "    print('wrong key')                          "
   ]
  },
  {
   "cell_type": "markdown",
   "metadata": {},
   "source": [
    "\n",
    "### Dictionary operations\n",
    "* Accessing\n",
    "  * Dict[key]\n",
    "  * `len()` - Returns the number of stored entries\n",
    "* Assignment \n",
    "  * `Dict[key] = object` \n",
    "* Removal\n",
    "  * `del Dict[key]`\n",
    "* The `del` statement can be used with lists or attributes etc.\n",
    "* Construction\n",
    "  * `dict(zip(keys, values))` \n",
    "\n",
    "### Dictionary methods\n",
    "\n",
    "Some typical methods for dictionaries:\n",
    "\n",
    "* `keys()`\n",
    "* `values()`\n",
    "* `copy()`\n",
    "\n",
    "## Note on function arguments\n"
   ]
  },
  {
   "cell_type": "code",
   "execution_count": null,
   "metadata": {},
   "outputs": [],
   "source": [
    "print(range(3, 6))             # normal call with separate arguments\n",
    "args = [3, 6]\n",
    "print(range(*args))            # call with arguments unpacked from a list\n"
   ]
  },
  {
   "cell_type": "code",
   "execution_count": null,
   "metadata": {},
   "outputs": [],
   "source": [
    "def cheeseshop(kind, *arguments, **keywords):\n",
    "    print(\"-- Do you have any\", kind, '?')\n",
    "    print(\"-- I'm sorry, we're all out of\", kind)\n",
    "    for arg in arguments: print(arg)\n",
    "    print ('-'*40)\n",
    "    for kw in keywords.keys(): print (kw, ':', keywords[kw])\n",
    "\n",
    "cheeseshop('Limburger', \"It's very runny, sir.\",\n",
    "           \"It's really very, VERY runny, sir.\",\n",
    "           client='John Cleese',\n",
    "           shopkeeper='Michael Palin',\n",
    "           sketch='Cheese Shop Sketch')\n"
   ]
  },
  {
   "cell_type": "markdown",
   "metadata": {},
   "source": [
    "\n",
    "## Naming convention\n",
    "* [docstrings](http://www.python.org/dev/peps/pep-0257) and [general text](http://www.python.org/dev/peps/pep-0008)\n",
    "* Function names should describe what the function does. \n",
    "* The more general the better though there is a balance. \n",
    "* Name should be enough to give an idea of what it does. \n",
    "* General does not mean short! Use full words\n",
    "* Arguments names should be as general as possible: object, aString, aFunction, comparisonFunction.\n",
    "* A variabe name should describe what it is. \n",
    "* Use full words. \n",
    "* You should not use reserved words.\n",
    "* Names beginning and ending in two `__` are system defined names and have a special meaning for the interpreter.\n",
    "\n",
    "## Finding substrings\n",
    "[index](https://www.programiz.com/python-programming/methods/string/index)"
   ]
  },
  {
   "cell_type": "code",
   "execution_count": null,
   "metadata": {},
   "outputs": [],
   "source": [
    "dna = \"\"\"ttcacctagtctaggacccactaatgcagatcctgtg\n",
    "tgtctagctaagatgtattatatctatattcactgggcttattgggccaa\n",
    "tgaaaatatgcaagaaaggaaaaaaaagatgtagacaaggaattctattt\"\"\"\n",
    "E='gat'\n",
    "print(dna.find(E))\n",
    "print(dna.index(E))"
   ]
  },
  {
   "cell_type": "markdown",
   "metadata": {},
   "source": [
    "Try looking for a non-existing substring with both methods\n",
    "\n",
    "QUESTION:Write a function that returns the list of codons for a DNA sequence and a given frame\n",
    "\n",
    "## Regular expressions\n",
    "\n",
    "A regular expression is a pattern that a string is searched for. Unix commands such as \"rm *.*\" are similar to regular expressions, but the syntax of regular expressions is more elaborated. Several Unix programs (grep, sed, awk, ed, vi, emacs) use regular expressions and many modern programming languages (such as Java) also support them.\n",
    "\n",
    "[REGEX](http://docs.python.org/howto/regex.html)\n",
    "[RE](http://docs.python.org/library/re.html)"
   ]
  },
  {
   "cell_type": "code",
   "execution_count": null,
   "metadata": {},
   "outputs": [],
   "source": [
    "import re\n",
    "m = re.search('(?<=abc)def', 'abcdef')\n",
    "print(m.group(0))\n",
    "m = re.search('(?<=-)\\w+', 'spam-egg')\n",
    "print(m.group(0))\n",
    "m = re.match(r\"(\\w+) (\\w+)\", \"Isaac Newton, physicist\")\n",
    "print(m.group(0),'|',       # The entire match\n",
    "      m.group(1),'|',       # The first parenthesized subgroup.\n",
    "      m.group(2),'|',       # The second parenthesized subgroup.\n",
    "      m.group(1, 2))        # Multiple arguments give us a tuple.\n",
    "\n"
   ]
  },
  {
   "cell_type": "markdown",
   "metadata": {},
   "source": [
    "\n",
    "## Writing regex\n",
    "* `compile()` Compile a regular expression pattern into a regular expression object, which can be used for matching using its `match()` and `search()` methods\n",
    "* `search()`  Scan through string looking for a location where the regular expression pattern produces a match, and return a corresponding MatchObject instance.\n",
    "* `match()`  If zero or more characters at the beginning of string match the regular expression pattern, return a corresponding MatchObject instance\n",
    "* `split()` Split string by the occurrences of pattern \n",
    "\n",
    "\n",
    "In Python, a regular expression is first compiled:"
   ]
  },
  {
   "cell_type": "code",
   "execution_count": null,
   "metadata": {},
   "outputs": [],
   "source": [
    "line = \"Compile a regular expression pattern into a regular expression object, which can be used for matching using its match() and search() methods\"\n",
    "keyword = re.compile(r\"for \")\n",
    "print(keyword.search(line))\n",
    "print(not keyword.search(line))\n",
    "keyword = re.compile(r\"the \",re.I) #for insensitive search"
   ]
  },
  {
   "cell_type": "markdown",
   "metadata": {},
   "source": [
    "\n",
    "## `re.finditer()`\n"
   ]
  },
  {
   "cell_type": "code",
   "execution_count": null,
   "metadata": {},
   "outputs": [],
   "source": [
    "import re\n",
    "s1 = 'We are testing the use of finditer'\n",
    "pattern = 'testing'\n",
    "for match in re.finditer(pattern, s1):\n",
    "    s = match.start()\n",
    "    e = match.end()\n",
    "    print('String match \"%s\" at %d:%d' % (s1[s:e], s, e))"
   ]
  },
  {
   "cell_type": "markdown",
   "metadata": {},
   "source": [
    "\n",
    "QUESTION:Given a string of A, C, T, and G, and X, find a string where X matches any single character, e.g., CATGG is contained in ACTGGGXXAXGGTTT.\n",
    "\n",
    "QUESTION:Write a regular expression to extract the coding sequence from a DNA string. It starts with the ATG codon and ends with a stop codon (TAA, TAG, or TGA).\n"
   ]
  },
  {
   "cell_type": "code",
   "execution_count": null,
   "metadata": {},
   "outputs": [],
   "source": [
    "import re\n",
    "\n",
    "print(re.findall(r'\\bf[a-z]*', 'which foot or hand fell fastest'))\n",
    "print(re.sub(r'(\\b[a-z]+) \\1', r'\\1', 'cat in the the hat'))\n",
    "'tea for too'.replace('too', 'two')\n"
   ]
  },
  {
   "cell_type": "code",
   "execution_count": null,
   "metadata": {},
   "outputs": [],
   "source": [
    "#!/usr/bin/env python\n",
    "import re\n",
    "\n",
    "from urllib.request import urlopen\n",
    "html = urlopen(\"http://docs.python.org/howto/regex.html\").read()\n",
    "print(type(html))\n",
    "\n",
    "# compiling the regular expression:\n",
    "keyword = re.compile(r\"the \")\n",
    "\n",
    "# searching the file content line by line:\n",
    "for line in str(html):\n",
    "    if keyword.search(line):\n",
    "       print(line,)\n"
   ]
  },
  {
   "cell_type": "markdown",
   "metadata": {},
   "source": [
    "\n",
    "## Regular expressions\n"
   ]
  },
  {
   "cell_type": "markdown",
   "metadata": {},
   "source": [
    "Write scripts that\n",
    "\n",
    "QUESTION: Retrieve all lines from a given file that do not contain \"the \". Retrieve all lines that contain \"the \" with lower or upper case letters (hint: use the ignore case option)\n",
    "\n",
    "QUESTION: Retrieve lines from a long sequence (eg, CFTR) that contain a given codon, and then a given first and third letter for each triad \n",
    "\n",
    "QUESTION: Write a script that asks users for their name, address and phone number. Test each input for accuracy, for example, there should be no letters in a phone number. A phone number should have a certain length. An address should have a certain format, etc. Ask the user to repeat the input in case your script identifies it as incorrect.\n",
    "\n",
    "QUESTION: Download the sequence of the CFTR gene and create a python program able to:\n",
    "* obtain the content of G and C\n",
    "* transcribe it into RNA sequence\n",
    "* get its complementary DNA sequence\n",
    "* get its reverse complementary DNA sequence\n",
    "* plot a histogram for the frequency of the different DNA codons in the sequence, ordering the codons by frequency in the X axis\n",
    "\n",
    "# Classes\n",
    "\n",
    "## Classes: Some defs\n",
    "\n",
    "* **Namespace** mapping from names to objects. There is absolutely norelation between names in different namescapes (different local names in a function invocation, for example; that is why we prefix them with the name of the function, for example).\n",
    "* **Scope**  textual region of a Python program where a namespace is directly accessible.\n",
    "* **Attributes**  anything you can call in the form:`object.attribute (data and methods).\n",
    "* **Instance objects** created by {\\em instantiation of classes.\n",
    "\n",
    "[Tutorial](http://docs.python.org/tutorial/classes.html)\n",
    "\n",
    "\n",
    "## Global vs local variables\n",
    "\n",
    "\n",
    "\n"
   ]
  },
  {
   "cell_type": "code",
   "execution_count": null,
   "metadata": {},
   "outputs": [],
   "source": [
    "#!/usr/local/bin/python\n",
    "\"\"\"http://www.wellho.net/resources/ex.php4?item=y105/locvar.py\"\"\"\n",
    "# Variable scope\n",
    "\n",
    "first = 1\n",
    "\n",
    "def one():\n",
    "        \"Double a global variable, return it + 3.\"\n",
    "        global first\n",
    "        first *= 2\n",
    "        result = first+3\n",
    "        return result\n",
    "\n",
    "print(one.__doc__)\n",
    "print(one())\n",
    "print(one())\n",
    "print(one())\n",
    "print(\"first now has the value\",first)\n",
    "print(\"result has the value\",result)\n"
   ]
  },
  {
   "cell_type": "markdown",
   "metadata": {},
   "source": [
    "## A first example of a class\n",
    "\n",
    "\n",
    "\n",
    "\n"
   ]
  },
  {
   "cell_type": "code",
   "execution_count": null,
   "metadata": {},
   "outputs": [],
   "source": [
    "#! /usr/bin/python\n",
    "\"\"\"house.py -- A house program.  \"\"\"\n",
    "\n",
    "class House(object):\n",
    "    \"\"\"Some stuff \"\"\"\n",
    "my_house = House() # class instantiation\n",
    "my_house.number = 40 # data attribute\n",
    "my_house.rooms = 8\n",
    "my_house.garden = 1\n",
    "\t\n",
    "print(\"My house is number\", my_house.number)\n",
    "print(\"It has\", my_house.rooms, \"rooms\")\n",
    "if my_house.garden:\n",
    "\tgarden_text = \"has\"\n",
    "else:\n",
    "\tgarden_text = \"does not have\"\n",
    "\tprint(\"It\", garden_text, \"a garden\")\n"
   ]
  },
  {
   "cell_type": "markdown",
   "metadata": {},
   "source": [
    "## A second example of a class\n"
   ]
  },
  {
   "cell_type": "code",
   "execution_count": null,
   "metadata": {},
   "outputs": [],
   "source": [
    "#! /usr/bin/python\n",
    "\"\"\"house2.py -- Another house.\n",
    "\"\"\"\n",
    "\n",
    "class House(object):\n",
    "\tdef __init__(self, number, rooms, garden):\n",
    "\t\tself.number = number\n",
    "\t\tself.rooms = rooms\n",
    "\t\tself.garden = garden\n",
    "\n",
    "my_house = House(20, 1, 0)\n",
    "\n",
    "print(\"My house is number\", my_house.number)\n",
    "print(\"It has\", my_house.rooms, \"rooms\")\n",
    "if my_house.garden:\n",
    "\tgarden_text = \"has\"\n",
    "else:\n",
    "\tgarden_text = \"does not have\"\n",
    "print(\"It\", garden_text, \"a garden\")\n"
   ]
  },
  {
   "cell_type": "markdown",
   "metadata": {},
   "source": [
    "## Adding methods"
   ]
  },
  {
   "cell_type": "code",
   "execution_count": null,
   "metadata": {},
   "outputs": [],
   "source": [
    "#! /usr/bin/python\n",
    "\"\"\"square.py -- Make some noise about a square.\n",
    "\"\"\"\n",
    "\n",
    "class Square:\n",
    "\tdef __init__(self, length, width):\n",
    "\t\tself.length = length\n",
    "\t\tself.width = width\n",
    "\n",
    "\tdef area(self):\n",
    "\t\treturn self.length * self.width\n",
    "\n",
    "my_square = Square(5, 2)\n",
    "print(my_square.area())\n"
   ]
  },
  {
   "cell_type": "markdown",
   "metadata": {},
   "source": [
    "[Basic stuff about classes in Python (1)](http://www.ibiblio.org/g2swap/byteofpython/read/oops.html)\n",
    "[Basic stuff about classes in Python (2)](http://www.voidspace.org.uk/python/articles/OOP.shtml)\n",
    "\n",
    "## Some terminology\n",
    "* A class creates a new type where objects are instances of the class.\n",
    "* The 'functions' that are part of an object are called methods.\n",
    "* The fields and methods are called 'attributes'.\n",
    "* You can examine all the methods and attributes that are associated with an object using the dir command :\n",
    "`print(dir(some\\_obj)`\n",
    "* Fields are of two types - they can belong to each instance/object of the class or they can belong to the class itself. They are called instance variables and class variables respectively.\n",
    "\n",
    "\n",
    "## Arrays and classes\n",
    "\n",
    "\n",
    "\n"
   ]
  },
  {
   "cell_type": "code",
   "execution_count": null,
   "metadata": {},
   "outputs": [],
   "source": [
    "#! /usr/bin/python\n",
    "\"\"\"person.py -- A person example.\n",
    "\"\"\"\n",
    "class Person(object):\n",
    "\tdef __init__(self, age, house_number):\n",
    "\t\tself.age = age\n",
    "\t\tself.house_number = house_number\n",
    "\n",
    "alex = []\n",
    "for i in range(5):\n",
    "\tobj = Person(i, i)\n",
    "\talex.append(obj)\n",
    "\n",
    "print(\"Alex[3] age is\", alex[3].age)\n",
    "print\n",
    "\n",
    "for alexsub in alex:\n",
    "\tprint(\"Age is\", alexsub.age)\n",
    "\tprint(\"House number is\", alexsub.house_number)"
   ]
  },
  {
   "cell_type": "markdown",
   "metadata": {},
   "source": [
    "## Examples\n",
    "QUESTION:Write a simple program that reads from a CSV file containing a list of names, addresses, and ages and returns the name, address and age for a particular person upon request.\n",
    "QUESTION:Extend the above program to include e-mail addresses and phone numbers to the student's data. (Hint: \\url{http://www.upriss.org.uk/python/session13.html)\n",
    "\n",
    "# Exceptions\n",
    "\n",
    "[Syntax errors](http://docs.python.org/tutorial/errors.html)\n",
    "\n"
   ]
  },
  {
   "cell_type": "code",
   "execution_count": null,
   "metadata": {},
   "outputs": [],
   "source": [
    ">>> while True print('Hello world')\n",
    "  File \"<stdin>\", line 1, in ?\n",
    "    while True print('Hello world')\n",
    "                   ^\n",
    "SyntaxError: invalid syntax\n"
   ]
  },
  {
   "cell_type": "markdown",
   "metadata": {},
   "source": [
    "QUESTION: try to correct these lines"
   ]
  },
  {
   "cell_type": "code",
   "execution_count": null,
   "metadata": {},
   "outputs": [],
   "source": [
    "10 * (1/0)\n",
    "4 + spam*3\n",
    "'2' + 2"
   ]
  },
  {
   "cell_type": "markdown",
   "metadata": {},
   "source": [
    "\n",
    "## Handling exceptions\n"
   ]
  },
  {
   "cell_type": "code",
   "execution_count": null,
   "metadata": {},
   "outputs": [],
   "source": [
    "#!/usr/bin/env python\n",
    "#\n",
    "# Program to read and print(a file \n",
    "\n",
    "import sys\n",
    "\n",
    "try:\n",
    "    file = open(\"alice.txt\",\"r\")\n",
    "except IOError:\n",
    "    print(\"Could not open file\")\n",
    "    sys.exit(0)\n",
    "\n",
    "text = file.readlines()\n",
    "file.close()\n",
    "\n",
    "for line in text:\n",
    "    print(line,)\n",
    "print\n"
   ]
  },
  {
   "cell_type": "markdown",
   "metadata": {},
   "source": [
    "\n",
    "## Exceptions\n"
   ]
  },
  {
   "cell_type": "markdown",
   "metadata": {},
   "source": [
    "```\n",
    "... except (RuntimeError, TypeError, NameError):\n",
    "...     pass\n",
    "```\n"
   ]
  },
  {
   "cell_type": "markdown",
   "metadata": {},
   "source": [
    "```\n",
    ">>> def this_fails():\n",
    "...     x = 1/0\n",
    "...\n",
    ">>> try:\n",
    "...     this_fails()\n",
    "... except ZeroDivisionError as detail:\n",
    "...     print('Handling run-time error:', detail\n",
    "...\n",
    "Handling run-time error: integer division or modulo by zero\n",
    "```"
   ]
  },
  {
   "cell_type": "markdown",
   "metadata": {},
   "source": [
    "\n",
    "## A useful case\n"
   ]
  },
  {
   "cell_type": "code",
   "execution_count": null,
   "metadata": {},
   "outputs": [],
   "source": [
    "# example on how to use command line arguments in python with getopt\n",
    "import getopt, sys\n",
    "\n",
    "def main():\n",
    "    try:\n",
    "        opts, args = getopt.getopt(sys.argv[1:], \"ho:\", [\"help\", \"output=\"])\n",
    "    except getopt.GetoptError:\n",
    "        # print(help information and exit:\n",
    "        usage()\n",
    "        sys.exit(2)\n",
    "    output = None\n",
    "    for o, a in opts:\n",
    "        if o in (\"-h\", \"--help\"):\n",
    "            usage()\n",
    "            sys.exit()\n",
    "        if o in (\"-o\", \"--output\"):\n",
    "            output = a\n",
    "    #...\n",
    "if __name__ == \"__main__\":\n",
    "    main()\n"
   ]
  },
  {
   "cell_type": "markdown",
   "metadata": {},
   "source": [
    "## Exceptions\n"
   ]
  },
  {
   "cell_type": "code",
   "execution_count": null,
   "metadata": {},
   "outputs": [],
   "source": [
    ">>> def divide(x, y):\n",
    "...     try:\n",
    "...         result = x / y\n",
    "...     except ZeroDivisionError:\n",
    "...         print(\"division by zero!\"\n",
    "...     else:\n",
    "...         print(\"result is\", result\n",
    "...     finally:\n",
    "...         print(\"executing finally clause\"\n",
    "...\n",
    ">>> divide(2, 1)\n",
    "result is 2\n",
    "executing finally clause\n",
    ">>> divide(2, 0)\n",
    "division by zero!\n",
    "executing finally clause\n",
    ">>> divide(\"2\", \"1\")\n",
    "executing finally clause\n",
    "Traceback (most recent call last):\n",
    "  File \"<stdin>\", line 1, in ?\n",
    "  File \"<stdin>\", line 3, in divide\n",
    "TypeError: unsupported operand type(s) for /: 'str' and 'str'\n"
   ]
  },
  {
   "cell_type": "markdown",
   "metadata": {},
   "source": [
    "\n",
    "\n",
    "## User defined exceptions\n"
   ]
  },
  {
   "cell_type": "code",
   "execution_count": null,
   "metadata": {},
   "outputs": [],
   "source": [
    ">>> class MyError(Exception):\n",
    "...     def __init__(self, value):\n",
    "...         self.value = value\n",
    "...     def __str__(self):\n",
    "...         return repr(self.value)\n",
    "...\n",
    ">>> try:\n",
    "...     raise MyError(2*2)\n",
    "... except MyError as e:\n",
    "...     print('My exception occurred, value:', e.value\n",
    "...\n",
    "My exception occurred, value: 4\n",
    ">>> raise MyError('oops!')\n",
    "Traceback (most recent call last):\n",
    "  File \"<stdin>\", line 1, in ?\n",
    "__main__.MyError: 'oops!'\n"
   ]
  },
  {
   "cell_type": "markdown",
   "metadata": {},
   "source": [
    "\n",
    "\n",
    "## User defined exceptions\n"
   ]
  },
  {
   "cell_type": "code",
   "execution_count": null,
   "metadata": {},
   "outputs": [],
   "source": [
    "class Error(Exception):\n",
    "    \"\"\"Base class for exceptions in this module.\"\"\"\n",
    "    pass\n",
    "\n",
    "class InputError(Error):\n",
    "    \"\"\"Exception raised for errors in the input.\n",
    "\n",
    "    Attributes:\n",
    "        expr -- input expression in which the error occurred\n",
    "        msg  -- explanation of the error\n",
    "    \"\"\"\n",
    "\n",
    "    def __init__(self, expr, msg):\n",
    "        self.expr = expr\n",
    "        self.msg = msg\n"
   ]
  },
  {
   "cell_type": "markdown",
   "metadata": {},
   "source": [
    "\n",
    "\\section{BioPython\n",
    "\n",
    "## BioPython\n",
    "Set of modules and packages for biology (sequence analysis, database access, parsers...).\n",
    "\\tiny\n",
    "\\url{http://biopython.org/DIST/docs/tutorial/Tutorial.html\n",
    "\\url{http://biopython.org/DIST/docs/api/\n",
    "\\normalsize\n",
    "\n",
    "## Examples\n"
   ]
  },
  {
   "cell_type": "code",
   "execution_count": null,
   "metadata": {},
   "outputs": [],
   "source": [
    ">>> from Bio.Seq import Seq\n",
    ">>> my_seq = Seq(\"AGTACACTGGT\")\n",
    ">>> my_seq\n",
    "Seq('AGTACACTGGT', Alphabet())\n",
    ">>> print(my_seq\n",
    "AGTACACTGGT\n",
    ">>> my_seq.alphabet\n",
    "Alphabet()\n",
    ">>> my_seq.complement()\n",
    "Seq('TCATGTGACCA', Alphabet())\n",
    ">>> my_seq.reverse_complement()\n",
    "Seq('ACCAGTGTACT', Alphabet())\n"
   ]
  },
  {
   "cell_type": "markdown",
   "metadata": {},
   "source": [
    "\n",
    "## A couple of simple exercises\n",
    "QUESTION:Search for CFTR nucleotide sequences in the NCBI server. Save the sequences as FASTA and GeneBank. Using the SeqIO parser extract the sequences from the files and print(them on screen. \n",
    "\\small\\url{http://biopython.org/DIST/docs/api/Bio.SeqIO-module.html#parse\\normalsize\n",
    "QUESTION:Download an alignment for the CFTR protein entries from PFAM (use the seed for ABC transporters). Using the AlignIO parser, extract the sequences from FASTA or Stocholm formatted files downloaded from PFAM.\n",
    "\\small\\url{http://biopython.org/DIST/docs/api/Bio.AlignIO-module.html#parse\\normalsize\n"
   ]
  },
  {
   "cell_type": "code",
   "execution_count": null,
   "metadata": {},
   "outputs": [],
   "source": [
    "from Bio.Align.Generic import Alignment\n",
    "from Bio.Alphabet import IUPAC, Gapped\n",
    "alphabet = Gapped(IUPAC.unambiguous_dna)\n",
    "\n",
    "align1 = Alignment(alphabet)\n",
    "align1.add_sequence(\"Alpha\", \"ACTGCTAGCTAG\")\n",
    "align1.add_sequence(\"Beta\",  \"ACT-CTAGCTAG\")\n",
    "align1.add_sequence(\"Gamma\", \"ACTGCTAGDTAG\")\n",
    "\n",
    "align2 = Alignment(alphabet)\n",
    "align2.add_sequence(\"Delta\",  \"GTCAGC-AG\")\n",
    "align2.add_sequence(\"Epislon\",\"GACAGCTAG\")\n",
    "align2.add_sequence(\"Zeta\",   \"GTCAGCTAG\")\n",
    "\n",
    "my_alignments = [align1, align2]\n"
   ]
  },
  {
   "cell_type": "markdown",
   "metadata": {},
   "source": [
    "See, better, `MultipleSeqAlignment\n",
    "\n",
    "## Converting between sequence alignment formats\n"
   ]
  },
  {
   "cell_type": "code",
   "execution_count": null,
   "metadata": {},
   "outputs": [],
   "source": [
    "from Bio import AlignIO\n",
    "count = AlignIO.convert(\"PF05371_seed.sth\", \"stockholm\",\n",
    "                        \"PF05371_seed.aln\", \"clustal\")\n",
    "print(\"Converted %i alignments\" % count\n"
   ]
  },
  {
   "cell_type": "code",
   "execution_count": null,
   "metadata": {},
   "outputs": [],
   "source": [
    "from Bio import AlignIO\n",
    "alignments = AlignIO.parse(open(\"PF05371_seed.sth\"), \n",
    "                                \"stockholm\")\n",
    "handle = open(\"PF05371_seed.aln\",\"w\")\n",
    "count = AlignIO.write(alignments, handle, \"clustal\")\n",
    "handle.close()\n",
    "print(\"Converted %i alignments\" % count\n"
   ]
  },
  {
   "cell_type": "code",
   "execution_count": null,
   "metadata": {},
   "outputs": [],
   "source": [
    "from Bio import AlignIO\n",
    "alignment = AlignIO.read(open(\"PF05371_seed.sth\"), \n",
    "                         \"stockholm\")\n",
    "print(alignment.format(\"clustal\")\n"
   ]
  },
  {
   "cell_type": "markdown",
   "metadata": {},
   "source": [
    "\n",
    "## Performing alignments\n",
    "BioPython provides tools for command line execution. For example:\n"
   ]
  },
  {
   "cell_type": "code",
   "execution_count": null,
   "metadata": {},
   "outputs": [],
   "source": [
    ">>> import os\n",
    ">>> import subprocess\n",
    ">>> from Bio.Align.Applications import ClustalwCommandline\n",
    ">>> help(ClustalwCommandline)\n",
    ">>> c_exe = r\"/Applications/clustalw2\"\n",
    ">>> assert os.path.isfile(c_exe), \"Clustal W missing\"\n",
    ">>> cl = ClustalwCommandline(c_exe, infile=\"cftr.fasta\")\n",
    ">>> return_code = subprocess.call(str(cl),\n",
    "...                       stdout = open(os.devnull),\n",
    "...                       stderr = open(os.devnull),\n",
    "...                       shell=(sys.platform!=\"win32\"))\n"
   ]
  },
  {
   "cell_type": "markdown",
   "metadata": {},
   "source": [
    "\\tiny\n",
    "\\url{http://docs.python.org/library/subprocess.html\n",
    "\\url{http://jimmyg.org/blog/2009/working-with-python-subprocess.html\n",
    "\\normalsize\n",
    "\n",
    "## Working with streams and subprocesses\n"
   ]
  },
  {
   "cell_type": "code",
   "execution_count": null,
   "metadata": {},
   "outputs": [],
   "source": [
    "import sys\n",
    "while 1:\n",
    "    try:\n",
    "        input = sys.stdin.readline()\n",
    "        if input:\n",
    "            sys.stdout.write('Echo to stdout: %s'%input)\n",
    "            sys.stderr.write('Echo to stderr: %s'%input)\n",
    "    except KeyboardError:\n",
    "         sys.exit()\n"
   ]
  },
  {
   "cell_type": "code",
   "execution_count": null,
   "metadata": {},
   "outputs": [],
   "source": [
    ">>> subprocess.Popen('echo $PWD', shell=True)\n",
    "/home/james/Desktop\n"
   ]
  },
  {
   "cell_type": "code",
   "execution_count": null,
   "metadata": {},
   "outputs": [],
   "source": [
    ">>> subprocess.Popen(\"\"\"\n",
    "... cat << EOF > new.txt\n",
    "... Hello World!\n",
    "... EOF\n",
    "... \"\"\", shell=True)\n"
   ]
  },
  {
   "cell_type": "markdown",
   "metadata": {},
   "source": [
    "\n",
    "## Dealing with PDB files\n",
    "\\footnotesize\n",
    "\\url{http://www.biopython.org/DIST/docs/tutorial/Tutorial.html#htoc133\n",
    "\\normalsize\n",
    "\\includegraphics[width=6cm]{figures/smcra\n",
    "See also \\cite{Fufezan_2009_258\n",
    "\n",
    "## PDB parsing example\n",
    "\\scriptsize\n"
   ]
  },
  {
   "cell_type": "code",
   "execution_count": null,
   "metadata": {},
   "outputs": [],
   "source": [
    ">>> from Bio.PDB.PDBParser import PDBParser\n",
    ">>> parser=PDBParser()\n",
    ">>> structure=parser.get_structure(\"test\",\"1WQ1.pdb\")\n",
    ">>> structure.get_list()\n",
    "[<Model id=0>]\n",
    ">>> model=structure[0]\n",
    ">>> model.get_list()\n",
    "[<Chain id=R>, <Chain id=G>]\n",
    ">>> chain=model[\"R\"]\n",
    ">>> chain.get_list()\n",
    "[<Residue MET het=  resseq=1 icode= >, <Residue THR het=  resseq=2 icode= >, <Residue GLU het=  resseq=3 icode= >, <Residue TYR het=  resseq=4 icode= >, <Residue LYS het=  resseq=5 icode= >\n"
   ]
  },
  {
   "cell_type": "markdown",
   "metadata": {},
   "source": [
    "\\normalsize\n",
    "\n",
    "## Retrieving a PDB file\n"
   ]
  },
  {
   "cell_type": "code",
   "execution_count": null,
   "metadata": {},
   "outputs": [],
   "source": [
    ">>> from Bio.PDB import PDBList\n",
    ">>> pdbl=PDBList()\n",
    ">>> pdbl.retrieve_pdb_file('5P21')\n",
    "retrieving ftp://ftp.wwpdb.org/pub/pdb/data/structures/divided/pdb/p2/pdb5p21.ent.gz\n",
    "'/Users/jordivilla/merda/p2/pdb5p21.ent'\n"
   ]
  },
  {
   "cell_type": "markdown",
   "metadata": {},
   "source": [
    "\\url{http://www.biopython.org/DIST/docs/cookbook/biopdb_faq.pdf\n",
    "or:\n"
   ]
  },
  {
   "cell_type": "code",
   "execution_count": null,
   "metadata": {},
   "outputs": [],
   "source": [
    "import urllib\n",
    "def fetch_pdb(id):\n",
    "  url = 'http://www.rcsb.org/pdb/files/%s.pdb' % id\n",
    "  return urllib.urlopen(url).read()\n"
   ]
  },
  {
   "cell_type": "markdown",
   "metadata": {},
   "source": [
    "\n",
    "\\section{Graphics\n",
    "\n",
    "## Plotting with Python\n",
    "Matplotlib is the reference tool for plotting 2D data in Python. iPython has a \"pylab\" mode specific for interacting with matplotlib.\n",
    "\n",
    "\\url{http://wiki.python.org/moin/NumericAndScientific/Plotting\n",
    "\\url{http://bmi.bmt.tue.nl/~philbers/8C080/matplotlibtutorial.html\n",
    "\n"
   ]
  },
  {
   "cell_type": "code",
   "execution_count": null,
   "metadata": {},
   "outputs": [],
   "source": [
    ">>> from pylab import randn, hist\n",
    ">>> x = randn(10000)\n",
    ">>> hist(x, 100)\n"
   ]
  },
  {
   "cell_type": "markdown",
   "metadata": {},
   "source": [
    "The pylab mode offers interaction similar to Matlab.\n",
    "\\url{http://matplotlib.sourceforge.net/\n",
    "Check also \\url{http://gnuplot-py.sourceforge.net/\n",
    "\n",
    "## pyplot\n",
    "\\url{http://www.scipy.org/PyLab\n"
   ]
  },
  {
   "cell_type": "code",
   "execution_count": null,
   "metadata": {},
   "outputs": [],
   "source": [
    "import matplotlib.pyplot as plt\n",
    "plt.plot([1,2,3])\n",
    "plt.ylabel('some numbers')\n",
    "plt.show()\n"
   ]
  },
  {
   "cell_type": "code",
   "execution_count": null,
   "metadata": {},
   "outputs": [],
   "source": [
    "import matplotlib.pyplot as plt\n",
    "plt.plot([1,2,3,4], [1,4,9,16], 'ro')\n",
    "plt.axis([0, 6, 0, 20])\n"
   ]
  },
  {
   "cell_type": "markdown",
   "metadata": {},
   "source": [
    "\n",
    "## RPy\n",
    "\\url{http://rpy.sourceforge.net/\n",
    "\\url{http://www.daimi.au.dk/~besen/TBiB2007/lecture-notes/rpy.html\n",
    "\\url{http://rpy.sourceforge.net/rpy2/doc-2.1/html/index.html\n"
   ]
  },
  {
   "cell_type": "code",
   "execution_count": null,
   "metadata": {},
   "outputs": [],
   "source": [
    "from rpy import *\n",
    "\n",
    "degrees = 4\n",
    "grid = r.seq(0, 10, length=100)\n",
    "values = [r.dchisq(x, degrees) for x in grid]\n",
    "r.par(ann=0)\n",
    "r.plot(grid, values, type='lines')\n"
   ]
  },
  {
   "cell_type": "markdown",
   "metadata": {},
   "source": [
    "\n",
    "## working with numpy arrays\n"
   ]
  },
  {
   "cell_type": "code",
   "execution_count": null,
   "metadata": {},
   "outputs": [],
   "source": [
    "import numpy as np\n",
    "import matplotlib.pyplot as plt\n",
    "\n",
    "# evenly sampled time at 200ms intervals\n",
    "t = np.arange(0., 5., 0.2)\n",
    "\n",
    "# red dashes, blue squares and green triangles\n",
    "plt.plot(t, t, 'r--', t, t##2, 'bs', t, t**3, 'g^')\n"
   ]
  },
  {
   "cell_type": "markdown",
   "metadata": {},
   "source": [
    "## CGI scripting \n",
    "\n",
    "### Even before talking on CGI"
   ]
  },
  {
   "cell_type": "code",
   "execution_count": null,
   "metadata": {},
   "outputs": [],
   "source": [
    "import urllib\n",
    "\n",
    "fwcURL = \"http://cbbl.imim.es\"\n",
    "\n",
    "try:\n",
    "   print(\"Going to Web for data\"\n",
    "   fwcall = urllib.urlopen(fwcURL).read()\n",
    "   print(\"Successful\"\n",
    "   print(\"Will now print(all of the data to screen\"\n",
    "   print(\"fwcall = \", fwcall\n",
    "except:\n",
    "   print(\"Could not obtain data from Web\"\n"
   ]
  },
  {
   "cell_type": "markdown",
   "metadata": {},
   "source": [
    "-->\n",
    "\n"
   ]
  },
  {
   "cell_type": "code",
   "execution_count": null,
   "metadata": {},
   "outputs": [],
   "source": [
    "import urllib.request\n",
    "response = urllib.request.urlopen('http://tycho.usno.navy.mil/cgi-bin/timer.pl')\n",
    "for line in response:\n",
    "    if 'EST' in line or 'EDT' in line:  # look for Eastern Time\n",
    "        print(line)\n",
    "\n",
    "\n",
    "html = response.read()\n",
    "\n",
    "import smtplib\n",
    "server = smtplib.SMTP('localhost')\n",
    "server.sendmail('soothsayer@example.org', 'jcaesar@example.org',\n",
    "   \"\"\"To: jcaesar@example.org\n",
    "      From: soothsayer@example.org\n",
    "      Beware the Ides of March.\n",
    "   \"\"\")\n",
    "server.quit()\n",
    "\n",
    "#!/usr/bin/env python\n",
    "\n",
    "import cgi\n",
    "print(\"Content-Type: text/html\\n\")\n",
    "\n",
    "print (\"\"\"\n",
    "<HTML>\n",
    "<HEAD>\n",
    "<TITLE>Hello World</TITLE>\n",
    "</HEAD>\n",
    "<BODY>\n",
    "<H1>Greetings</H1>\n",
    "</BODY>\n",
    "</HTML>\n",
    "\"\"\")\n"
   ]
  },
  {
   "cell_type": "markdown",
   "metadata": {},
   "source": [
    "## Packaging\n",
    "### Interface design\n",
    "* Encapsulation\n",
    "* Generalization\n",
    "* Interface design\n",
    "* Refactoring\n"
   ]
  },
  {
   "cell_type": "markdown",
   "metadata": {},
   "source": [
    "### Extending/embedding Python\n",
    "\n",
    "Python provides bindings to other languages that allow for powerful large project building. Check\n",
    "[http://docs.python.org/extending/index.html](http://docs.python.org/extending/index.html) for general information.\n",
    "Check als [http://pyobjc.sourceforge.net/](http://pyobjc.sourceforge.net/) for a bridge between Python and Objective C, needed for example when building framework based software. "
   ]
  },
  {
   "cell_type": "markdown",
   "metadata": {},
   "source": [
    "## Glossary\n",
    "\n",
    "* ##problem solving** The process of formulating a problem, finding a solution, and expressing the solution. \n",
    "* ##high-level language** A programming language like Python that is designed to be easy for humans to read and write. \n",
    "* ##low-level language** A programming language that is designed to be easy for a computer to execute; also called \"machine language\" or \"assembly language\" \n",
    "* ##portability** A property of a program that can run on more than one kind of computer. \n",
    "* ##interpret** To execute a program in a high-level language by translating it one line at a time. \n",
    "* ##compile** To translate a program written in a high-level language into a low-level language all at once, in preparation for later execution. \n",
    "* ##source code** A program in a high-level language before being compiled. \n",
    "* ##object code** The output of the compiler after it translates the program. \n",
    "* ##executable** Another name for ob ject code that is ready to be executed. \n",
    "* ##prompt** Characters displayed by the interpreter to indicate that it is ready to take input from the user. \n",
    "* ##script** A program stored in a file (usually one that will be interpreted).\n",
    "* ##program** A set of instructions that specifies a computation. \n",
    "* ##algorithm** A general process for solving a category of problems. \n",
    "* ##bug** An error in a program. \n",
    "* ##debugging** The process of finding and removing any of the three kinds of programming errors. \n",
    "* ##syntax** The structure of a program. \n",
    "* ##syntax error** An error in a program that makes it impossible to parse (and therefore impossible to interpret). \n",
    "* ##exception** An error that is detected while the program is running. \n",
    "* ##semantics** The meaning of a program. \n",
    "* ##semantic error** An error in a program that makes it do something other than what the programmer intended. \n",
    "* ##natural language** Any one of the languages that people speak that evolved naturally. \n",
    "* ##formal language** Any one of the languages that people have designed for specific purposes, such as representing mathematical ideas or computer programs; all programming languages are formal languages. \n",
    "* ##token** One of the basic elements of the syntactic structure of a program, analogous to a word in a natural language. \n",
    "* ##parse** To examine a program and analyze the syntactic structure. \n",
    "* ##print statement** An instruction that causes the Python interpreter to display a value on the screen.\n",
    "* ##instance** A member of a set. \n",
    "* ##loop** A part of a program that can execute repeatedly. \n",
    "* ##encapsulation** The process of transforming a sequence of statements into a function definition. \n",
    "* ##generalization** The process of replacing something unnecessarily specific (like a number) with something appropriately general (like a variable or parameter). \n",
    "* ##interface** A description of how to use a function, including the name and descriptions of the arguments and return value. \n",
    "* ##development plan** A process for writing programs. \n",
    "* ##docstring** A string that appears in a function definition to document the function's interface. "
   ]
  },
  {
   "cell_type": "markdown",
   "metadata": {},
   "source": [
    "## History and Sources\n",
    "\n",
    "This document's history:\n",
    "\n",
    "1. 2007 : Original version by Michael A. Johnston\n",
    "2. 2008 : modifications and examples added by JVF\n",
    "3. 2010-2019: \\LaTeX2e\\ version and extensions by JVF\n",
    "4. 2020: it to Markup and GitHub\n",
    "\n",
    "Sources of information:\n",
    "\n",
    "* Bioinformatics with Python Cookbook, Second Edition [https://github.com/PacktPublishing/Bioinformatics-with-Python-Cookbook-Second-Edition](https://github.com/PacktPublishing/Bioinformatics-with-Python-Cookbook-Second-Edition)\n",
    "* Style guide for Python code [https://www.python.org/dev/peps/pep-0008/](https://www.python.org/dev/peps/pep-0008/)\n",
    "* Library: [https://docs.python.org/3/library/index.html](https://docs.python.org/3/library/index.html)\n",
    "* [http://www.thinkpython.com](http://www.thinkpython.com)\n",
    "* [http://docs.python.org/tutorial/introduction.html](http://docs.python.org/tutorial/introduction.html)\n",
    "* [http://code.google.com/edu/languages/google-python-class/](http://code.google.com/edu/languages/google-python-class/)\n",
    "* [As old as enlightnening Python tutorial from Guido van Rossum](http://max2.physics.sunysb.edu/itp/computing/doc/python/python-tut/tut.html)"
   ]
  }
 ],
 "metadata": {
  "kernelspec": {
   "display_name": "Python 3",
   "language": "python",
   "name": "python3"
  },
  "language_info": {
   "codemirror_mode": {
    "name": "ipython",
    "version": 3
   },
   "file_extension": ".py",
   "mimetype": "text/x-python",
   "name": "python",
   "nbconvert_exporter": "python",
   "pygments_lexer": "ipython3",
   "version": "3.7.4"
  }
 },
 "nbformat": 4,
 "nbformat_minor": 4
}
