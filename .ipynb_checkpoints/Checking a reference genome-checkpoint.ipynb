{
 "cells": [
  {
   "cell_type": "markdown",
   "metadata": {},
   "source": [
    "Adapted from [https://github.com/PacktPublishing/Bioinformatics-with-Python-Cookbook-Second-Edition](https://github.com/PacktPublishing/Bioinformatics-with-Python-Cookbook-Second-Edition), Chapter 3.\n",
    "\n",
    "First, get the genome of *P. falciparum* from [https://plasmodb.org/common/downloads/Current_Release/Pfalciparum3D7/fasta/data/](https://plasmodb.org/common/downloads/Current_Release/Pfalciparum3D7/fasta/data/). You can find a copy in `files/PlasmoDB-46_Pfalciparum3D7_Genome.fasta`"
   ]
  },
  {
   "cell_type": "code",
   "execution_count": 1,
   "metadata": {},
   "outputs": [
    {
     "name": "stdout",
     "output_type": "stream",
     "text": [
      "--2020-04-03 12:50:46--  http://plasmodb.org/common/downloads/Current_Release/Pfalciparum3D7/fasta/data/PlasmoDB-46_Pfalciparum3D7_Genome.fasta\n",
      "Resolving plasmodb.org... 128.192.75.73\n",
      "Connecting to plasmodb.org|128.192.75.73|:80... connected.\n",
      "HTTP request sent, awaiting response... 301 Moved Permanently\n",
      "Location: https://plasmodb.org/common/downloads/Current_Release/Pfalciparum3D7/fasta/data/PlasmoDB-46_Pfalciparum3D7_Genome.fasta [following]\n",
      "--2020-04-03 12:50:46--  https://plasmodb.org/common/downloads/Current_Release/Pfalciparum3D7/fasta/data/PlasmoDB-46_Pfalciparum3D7_Genome.fasta\n",
      "Connecting to plasmodb.org|128.192.75.73|:443... connected.\n",
      "HTTP request sent, awaiting response... 200 OK\n",
      "Length: 23723408 (23M) [application/x-fasta]\n",
      "Saving to: 'PlasmoDB-46_Pfalciparum3D7_Genome.fasta'\n",
      "\n",
      "PlasmoDB-46_Pfalcip 100%[===================>]  22.62M  6.60MB/s    in 4.1s    \n",
      "\n",
      "2020-04-03 12:50:51 (5.48 MB/s) - 'PlasmoDB-46_Pfalciparum3D7_Genome.fasta' saved [23723408/23723408]\n",
      "\n"
     ]
    }
   ],
   "source": [
    "!rm -f files/PlasmoDB-46_Pfalciparum3D7_Genome.fasta 2>/dev/null\n",
    "!wget http://plasmodb.org/common/downloads/Current_Release/Pfalciparum3D7/fasta/data/PlasmoDB-46_Pfalciparum3D7_Genome.fasta\n",
    "!mv PlasmoDB-46_Pfalciparum3D7_Genome.fasta files    "
   ]
  },
  {
   "cell_type": "code",
   "execution_count": 2,
   "metadata": {},
   "outputs": [
    {
     "name": "stdout",
     "output_type": "stream",
     "text": [
      "Pf3D7_01_v3 | organism=Plasmodium_falciparum_3D7 | version=2015-06-18 | length=640851 | SO=chromosome\n",
      "Pf3D7_02_v3 | organism=Plasmodium_falciparum_3D7 | version=2015-06-18 | length=947102 | SO=chromosome\n",
      "Pf3D7_03_v3 | organism=Plasmodium_falciparum_3D7 | version=2015-06-18 | length=1067971 | SO=chromosome\n",
      "Pf3D7_04_v3 | organism=Plasmodium_falciparum_3D7 | version=2015-06-18 | length=1200490 | SO=chromosome\n",
      "Pf3D7_05_v3 | organism=Plasmodium_falciparum_3D7 | version=2015-06-18 | length=1343557 | SO=chromosome\n",
      "Pf3D7_06_v3 | organism=Plasmodium_falciparum_3D7 | version=2015-06-18 | length=1418242 | SO=chromosome\n",
      "Pf3D7_07_v3 | organism=Plasmodium_falciparum_3D7 | version=2015-06-18 | length=1445207 | SO=chromosome\n",
      "Pf3D7_08_v3 | organism=Plasmodium_falciparum_3D7 | version=2015-06-18 | length=1472805 | SO=chromosome\n",
      "Pf3D7_09_v3 | organism=Plasmodium_falciparum_3D7 | version=2015-06-18 | length=1541735 | SO=chromosome\n",
      "Pf3D7_10_v3 | organism=Plasmodium_falciparum_3D7 | version=2015-06-18 | length=1687656 | SO=chromosome\n",
      "Pf3D7_11_v3 | organism=Plasmodium_falciparum_3D7 | version=2015-06-18 | length=2038340 | SO=chromosome\n",
      "Pf3D7_12_v3 | organism=Plasmodium_falciparum_3D7 | version=2015-06-18 | length=2271494 | SO=chromosome\n",
      "Pf3D7_13_v3 | organism=Plasmodium_falciparum_3D7 | version=2015-06-18 | length=2925236 | SO=chromosome\n",
      "Pf3D7_14_v3 | organism=Plasmodium_falciparum_3D7 | version=2015-06-18 | length=3291936 | SO=chromosome\n",
      "Pf3D7_API_v3 | organism=Plasmodium_falciparum_3D7 | version=2015-06-18 | length=34250 | SO=apicoplast_chromosome\n",
      "Pf_M76611 | organism=Plasmodium_falciparum_3D7 | version=2015-06-18 | length=5967 | SO=mitochondrial_chromosome\n"
     ]
    }
   ],
   "source": [
    "from Bio import SeqIO\n",
    "genome_name = 'files/PlasmoDB-46_Pfalciparum3D7_Genome.fasta'\n",
    "recs=SeqIO.parse(genome_name,'fasta')\n",
    "for rec in recs:\n",
    "    print(rec.description)"
   ]
  },
  {
   "cell_type": "code",
   "execution_count": 3,
   "metadata": {},
   "outputs": [
    {
     "name": "stdout",
     "output_type": "stream",
     "text": [
      "16.14167716645667 43.673469387755105\n"
     ]
    }
   ],
   "source": [
    "from Bio import SeqUtils\n",
    "\n",
    "chrom_sizes = {}\n",
    "chrom_GC = {}\n",
    "recs = SeqIO.parse(genome_name, 'fasta')\n",
    "block_size = 50000\n",
    "min_GC = 100.0\n",
    "max_GC = 0.0\n",
    "for rec in recs:\n",
    "    if rec.description.find('SO=chromosome') == -1:\n",
    "        continue\n",
    "    chrom = int(rec.description.split('_')[1])\n",
    "    chrom_GC[chrom] = []\n",
    "    size = len(rec.seq)\n",
    "    chrom_sizes[chrom] = size\n",
    "    num_blocks = size // block_size + 1\n",
    "    for block in range(num_blocks):\n",
    "        start = block_size * block\n",
    "        if block == num_blocks - 1:\n",
    "            end = size\n",
    "        else:\n",
    "            end = block_size + start + 1\n",
    "        block_seq = rec.seq[start:end]\n",
    "        block_GC = SeqUtils.GC(block_seq)\n",
    "        if block_GC < min_GC:\n",
    "            min_GC = block_GC\n",
    "        if block_GC > max_GC:\n",
    "            max_GC = block_GC\n",
    "        chrom_GC[chrom].append(block_GC)\n",
    "print(min_GC, max_GC)"
   ]
  },
  {
   "cell_type": "code",
   "execution_count": 4,
   "metadata": {},
   "outputs": [
    {
     "ename": "ModuleNotFoundError",
     "evalue": "No module named 'reportlab'",
     "output_type": "error",
     "traceback": [
      "\u001b[0;31m---------------------------------------------------------------------------\u001b[0m",
      "\u001b[0;31mModuleNotFoundError\u001b[0m                       Traceback (most recent call last)",
      "\u001b[0;32m<ipython-input-4-52478d31dd3e>\u001b[0m in \u001b[0;36m<module>\u001b[0;34m\u001b[0m\n\u001b[1;32m      1\u001b[0m \u001b[0;32mfrom\u001b[0m \u001b[0mIPython\u001b[0m\u001b[0;34m.\u001b[0m\u001b[0mcore\u001b[0m\u001b[0;34m.\u001b[0m\u001b[0mdisplay\u001b[0m \u001b[0;32mimport\u001b[0m \u001b[0mImage\u001b[0m\u001b[0;34m\u001b[0m\u001b[0;34m\u001b[0m\u001b[0m\n\u001b[0;32m----> 2\u001b[0;31m \u001b[0;32mfrom\u001b[0m \u001b[0mreportlab\u001b[0m\u001b[0;34m.\u001b[0m\u001b[0mlib\u001b[0m \u001b[0;32mimport\u001b[0m \u001b[0mcolors\u001b[0m\u001b[0;34m\u001b[0m\u001b[0;34m\u001b[0m\u001b[0m\n\u001b[0m\u001b[1;32m      3\u001b[0m \u001b[0;32mfrom\u001b[0m \u001b[0mreportlab\u001b[0m\u001b[0;34m.\u001b[0m\u001b[0mlib\u001b[0m\u001b[0;34m.\u001b[0m\u001b[0munits\u001b[0m \u001b[0;32mimport\u001b[0m \u001b[0mcm\u001b[0m\u001b[0;34m\u001b[0m\u001b[0;34m\u001b[0m\u001b[0m\n\u001b[1;32m      4\u001b[0m \u001b[0;32mfrom\u001b[0m \u001b[0mBio\u001b[0m\u001b[0;34m.\u001b[0m\u001b[0mGraphics\u001b[0m \u001b[0;32mimport\u001b[0m \u001b[0mBasicChromosome\u001b[0m\u001b[0;34m\u001b[0m\u001b[0;34m\u001b[0m\u001b[0m\n\u001b[1;32m      5\u001b[0m \u001b[0mchroms\u001b[0m \u001b[0;34m=\u001b[0m \u001b[0mlist\u001b[0m\u001b[0;34m(\u001b[0m\u001b[0mchrom_sizes\u001b[0m\u001b[0;34m.\u001b[0m\u001b[0mkeys\u001b[0m\u001b[0;34m(\u001b[0m\u001b[0;34m)\u001b[0m\u001b[0;34m)\u001b[0m\u001b[0;34m\u001b[0m\u001b[0;34m\u001b[0m\u001b[0m\n",
      "\u001b[0;31mModuleNotFoundError\u001b[0m: No module named 'reportlab'"
     ]
    }
   ],
   "source": [
    "from IPython.core.display import Image\n",
    "from reportlab.lib import colors\n",
    "from reportlab.lib.units import cm\n",
    "from Bio.Graphics import BasicChromosome\n",
    "chroms = list(chrom_sizes.keys())\n",
    "chroms.sort()\n",
    "\n",
    "biggest_chrom = max(chrom_sizes.values())\n",
    "\n",
    "my_genome = BasicChromosome.Organism(output_format=\"png\")\n",
    "\n",
    "my_genome.page_size = (29.7*cm, 21*cm) # check\n",
    "telomere_length = 10\n",
    "\n",
    "bottom_GC = 17.5\n",
    "top_GC = 22.0\n",
    "for chrom in chroms:\n",
    "    chrom_size = chrom_sizes[chrom]\n",
    "    chrom_representation = BasicChromosome.Chromosome('Cr %d' % chrom)\n",
    "    chrom_representation.scale_num = biggest_chrom\n",
    "\n",
    "    tel = BasicChromosome.TelomereSegment()\n",
    "    tel.scale = telomere_length\n",
    "    chrom_representation.add(tel)\n",
    "\n",
    "    num_blocks = len(chrom_GC[chrom])\n",
    "    for block, gc in enumerate(chrom_GC[chrom]):\n",
    "        my_GC = chrom_GC[chrom][block]\n",
    "        body = BasicChromosome.ChromosomeSegment()\n",
    "        if my_GC > top_GC:\n",
    "            body.fill_color = colors.Color(1, 0, 0)\n",
    "        elif my_GC < bottom_GC:\n",
    "            body.fill_color = colors.Color(1, 1, 0)\n",
    "        else:\n",
    "            my_color = (my_GC - bottom_GC) / (top_GC - bottom_GC)\n",
    "            body.fill_color = colors.Color(my_color, my_color, 1)\n",
    "        if block < num_blocks - 1:\n",
    "            body.scale = block_size\n",
    "        else:\n",
    "            body.scale = chrom_size % block_size\n",
    "        chrom_representation.add(body)\n",
    "\n",
    "    tel = BasicChromosome.TelomereSegment(inverted=True)\n",
    "    tel.scale = telomere_length\n",
    "    chrom_representation.add(tel)\n",
    "\n",
    "    my_genome.add(chrom_representation)\n",
    "\n",
    "my_genome.draw(\"figures/falciparum.png\", \"Plasmodium falciparum\")\n",
    "Image(\"figures/falciparum.png\")"
   ]
  },
  {
   "cell_type": "code",
   "execution_count": null,
   "metadata": {},
   "outputs": [],
   "source": []
  }
 ],
 "metadata": {
  "kernelspec": {
   "display_name": "Python 3",
   "language": "python",
   "name": "python3"
  },
  "language_info": {
   "codemirror_mode": {
    "name": "ipython",
    "version": 3
   },
   "file_extension": ".py",
   "mimetype": "text/x-python",
   "name": "python",
   "nbconvert_exporter": "python",
   "pygments_lexer": "ipython3",
   "version": "3.7.4"
  }
 },
 "nbformat": 4,
 "nbformat_minor": 4
}
