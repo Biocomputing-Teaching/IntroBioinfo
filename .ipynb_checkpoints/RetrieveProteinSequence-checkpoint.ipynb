{
 "cells": [
  {
   "cell_type": "code",
   "execution_count": null,
   "metadata": {},
   "outputs": [],
   "source": [
    "# simple script to retrieve a sequence of a protein from a given Uniprot ID\n",
    "\n",
    "from Bio import SeqIO\n",
    "from io import StringIO\n",
    "\n",
    "cID='Q14094'\n",
    "\n",
    "# retrieve info\n",
    "baseUrl=\"http://www.uniprot.org/uniprot/\"\n",
    "currentUrl=baseUrl+cID+\".fasta\"\n",
    "response = requests.post(currentUrl)\n",
    "cData=''.join(response.text)\n",
    "Seq=StringIO(cData)\n",
    "\n",
    "# print in FASTA format\n",
    "for record in SeqIO.parse(Seq, \"fasta\"):\n",
    "    print(\">\"+record.description)\n",
    "    print(record.seq)"
   ]
  },
  {
   "cell_type": "code",
   "execution_count": null,
   "metadata": {},
   "outputs": [],
   "source": []
  }
 ],
 "metadata": {
  "kernelspec": {
   "display_name": "Python 3",
   "language": "python",
   "name": "python3"
  },
  "language_info": {
   "codemirror_mode": {
    "name": "ipython",
    "version": 3
   },
   "file_extension": ".py",
   "mimetype": "text/x-python",
   "name": "python",
   "nbconvert_exporter": "python",
   "pygments_lexer": "ipython3",
   "version": "3.7.4"
  }
 },
 "nbformat": 4,
 "nbformat_minor": 4
}
