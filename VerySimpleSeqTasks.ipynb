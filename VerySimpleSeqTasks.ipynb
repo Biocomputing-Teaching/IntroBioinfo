{
 "cells": [
  {
   "cell_type": "markdown",
   "metadata": {},
   "source": [
    "Adapted from [https://github.com/PacktPublishing/Bioinformatics-with-Python-Cookbook-Second-Edition](https://github.com/PacktPublishing/Bioinformatics-with-Python-Cookbook-Second-Edition), Chapter 2.\n",
    "\n",
    "First let us retrieve a gene sequence. Here we test it with [human Lactase](https://www.ncbi.nlm.nih.gov/gene/?term=nm_002299) (LCT) "
   ]
  },
  {
   "cell_type": "code",
   "execution_count": null,
   "metadata": {},
   "outputs": [],
   "source": [
    "from Bio import Entrez, Seq, SeqIO\n",
    "from Bio.Alphabet import IUPAC\n",
    "\n",
    "# change this for any other gene ID or add a list of them (in such case you will need to modify the code)\n",
    "ID = 'NM_002299'\n",
    "\n",
    "Entrez.email = \"jvilla@uic.cat\" \n",
    "hdl = Entrez.efetch(db='nucleotide', id=[ID], rettype='fasta')  # Lactase gene\n",
    "seq = SeqIO.read(hdl, 'fasta')"
   ]
  },
  {
   "cell_type": "markdown",
   "metadata": {},
   "source": [
    "We will first save it as a FASTA file"
   ]
  },
  {
   "cell_type": "code",
   "execution_count": null,
   "metadata": {},
   "outputs": [],
   "source": [
    "filename = 'data/'+ID+'.fasta'\n",
    "w_hdl = open(filename, 'w')\n",
    "SeqIO.write([seq], w_hdl, 'fasta')\n",
    "w_hdl.close()"
   ]
  },
  {
   "cell_type": "markdown",
   "metadata": {},
   "source": [
    "let us read the file we just created"
   ]
  },
  {
   "cell_type": "code",
   "execution_count": null,
   "metadata": {},
   "outputs": [],
   "source": [
    "recs = SeqIO.parse(filename, 'fasta')\n",
    "for rec in recs:\n",
    "    seq = rec.seq\n",
    "    print(rec.description)\n",
    "    print(seq[:50]+'...') \n",
    "    print(seq.alphabet)"
   ]
  },
  {
   "cell_type": "markdown",
   "metadata": {},
   "source": [
    "let us change the alphabet in a way that the object \"knows\" this is DNA"
   ]
  },
  {
   "cell_type": "code",
   "execution_count": null,
   "metadata": {},
   "outputs": [],
   "source": [
    "seq = Seq.Seq(str(seq), IUPAC.unambiguous_dna)\n",
    "seq"
   ]
  },
  {
   "cell_type": "markdown",
   "metadata": {},
   "source": [
    "as it is DNA, we can now transcribe it into rna"
   ]
  },
  {
   "cell_type": "code",
   "execution_count": null,
   "metadata": {},
   "outputs": [],
   "source": [
    "rna = seq.transcribe()\n",
    "rna"
   ]
  },
  {
   "cell_type": "markdown",
   "metadata": {},
   "source": [
    "and now into protein code"
   ]
  },
  {
   "cell_type": "code",
   "execution_count": null,
   "metadata": {},
   "outputs": [],
   "source": [
    "prot = seq.translate()\n",
    "prot"
   ]
  }
 ],
 "metadata": {
  "kernelspec": {
   "display_name": "Python 3",
   "language": "python",
   "name": "python3"
  },
  "language_info": {
   "codemirror_mode": {
    "name": "ipython",
    "version": 3
   },
   "file_extension": ".py",
   "mimetype": "text/x-python",
   "name": "python",
   "nbconvert_exporter": "python",
   "pygments_lexer": "ipython3",
   "version": "3.7.4"
  }
 },
 "nbformat": 4,
 "nbformat_minor": 4
}
