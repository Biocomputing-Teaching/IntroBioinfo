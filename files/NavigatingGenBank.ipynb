{
 "cells": [
  {
   "cell_type": "markdown",
   "metadata": {},
   "source": [
    "Adapted from [https://github.com/PacktPublishing/Bioinformatics-with-Python-Cookbook-Second-Edition](https://github.com/PacktPublishing/Bioinformatics-with-Python-Cookbook-Second-Edition), Chapter 2."
   ]
  },
  {
   "cell_type": "markdown",
   "metadata": {},
   "source": [
    "1) Retrieving data from the NCBI databases using the Entrez interface"
   ]
  },
  {
   "cell_type": "code",
   "execution_count": 1,
   "metadata": {},
   "outputs": [
    {
     "name": "stdout",
     "output_type": "stream",
     "text": [
      "{'DbList': ['pubmed', 'protein', 'nuccore', 'ipg', 'nucleotide', 'structure', 'sparcle', 'genome', 'annotinfo', 'assembly', 'bioproject', 'biosample', 'blastdbinfo', 'books', 'cdd', 'clinvar', 'gap', 'gapplus', 'grasp', 'dbvar', 'gene', 'gds', 'geoprofiles', 'homologene', 'medgen', 'mesh', 'ncbisearch', 'nlmcatalog', 'omim', 'orgtrack', 'pmc', 'popset', 'probe', 'proteinclusters', 'pcassay', 'biosystems', 'pccompound', 'pcsubstance', 'seqannot', 'snp', 'sra', 'taxonomy', 'biocollections', 'gtr']}\n"
     ]
    }
   ],
   "source": [
    "# first of all, we need to give our credentials to access the Entrez interface. \n",
    "from Bio import Entrez, SeqIO, Medline\n",
    "Entrez.email = 'jvilla@uic.cat'\n",
    "\n",
    "# let us check the available databases\n",
    "handle = Entrez.einfo()\n",
    "rec = Entrez.read(handle)\n",
    "print(rec)"
   ]
  },
  {
   "cell_type": "code",
   "execution_count": 3,
   "metadata": {},
   "outputs": [
    {
     "name": "stdout",
     "output_type": "stream",
     "text": [
      "{'Count': '22', 'RetMax': '20', 'RetStart': '0', 'IdList': ['1700998533', '1700998531', '254939607', '1370522804', '1370522803', '1370522753', '568815575', '991820413', '991820412', '991820411', '991820410', '74273659', '71517132', '29127010', '25140225', '307686498', '66882028', '27978647', '66863989', '66863987'], 'TranslationSet': [{'From': '\"human\"[Organism]', 'To': '\"Homo sapiens\"[Organism]'}], 'TranslationStack': [{'Term': 'ACE2[Gene Name]', 'Field': 'Gene Name', 'Count': '1184', 'Explode': 'N'}, {'Term': '\"Homo sapiens\"[Organism]', 'Field': 'Organism', 'Count': '27615764', 'Explode': 'Y'}, 'AND'], 'QueryTranslation': 'ACE2[Gene Name] AND \"Homo sapiens\"[Organism]'}\n"
     ]
    }
   ],
   "source": [
    "handle = Entrez.esearch(db=\"nucleotide\", term='ACE2[Gene Name] AND \"human\"[Organism] ')\n",
    "rec_list = Entrez.read(handle)\n",
    "print(rec_list)"
   ]
  },
  {
   "cell_type": "code",
   "execution_count": 4,
   "metadata": {},
   "outputs": [],
   "source": [
    "id_list = rec_list['IdList']\n",
    "hdl = Entrez.efetch(db='nucleotide', id=id_list, rettype='gb', retmax=rec_list['Count'])\n",
    "recs = list(SeqIO.parse(hdl, 'gb'))"
   ]
  },
  {
   "cell_type": "code",
   "execution_count": 5,
   "metadata": {},
   "outputs": [
    {
     "name": "stdout",
     "output_type": "stream",
     "text": [
      "BC039902\n",
      "Homo sapiens angiotensin I converting enzyme (peptidyl-dipeptidase A) 2, mRNA (cDNA clone MGC:47598 IMAGE:5243048), complete cds\n"
     ]
    }
   ],
   "source": [
    "#print(recs) \n",
    "for rec in recs:\n",
    "    if rec.name == 'BC039902':\n",
    "        print(rec.name)\n",
    "        print(rec.description)\n",
    "        break"
   ]
  },
  {
   "cell_type": "code",
   "execution_count": 6,
   "metadata": {},
   "outputs": [
    {
     "name": "stdout",
     "output_type": "stream",
     "text": [
      "====\n",
      " type: source\n",
      "location: [0:3348](+)\n",
      "qualifiers:\n",
      "    Key: clone, Value: ['MGC:47598 IMAGE:5243048']\n",
      "    Key: clone_lib, Value: ['NIH_MGC_121']\n",
      "    Key: db_xref, Value: ['taxon:9606']\n",
      "    Key: lab_host, Value: ['DH10B']\n",
      "    Key: mol_type, Value: ['mRNA']\n",
      "    Key: note, Value: ['Vector: pCMV-SPORT6']\n",
      "    Key: organism, Value: ['Homo sapiens']\n",
      "    Key: tissue_type, Value: ['Brain, fetal, whole pooled']\n",
      " \n",
      "----\n",
      "not processed\n",
      "====\n",
      " type: gene\n",
      "location: [0:3348](+)\n",
      "qualifiers:\n",
      "    Key: db_xref, Value: ['GeneID:59272', 'HGNC:HGNC:13557', 'MIM:300335']\n",
      "    Key: gene, Value: ['ACE2']\n",
      "    Key: gene_synonym, Value: ['ACEH', 'DKFZP434A014']\n",
      " \n",
      "----\n",
      "['ACE2']\n",
      "====\n",
      " type: CDS\n",
      "location: [18:2436](+)\n",
      "qualifiers:\n",
      "    Key: codon_start, Value: ['1']\n",
      "    Key: db_xref, Value: ['GeneID:59272', 'HGNC:HGNC:13557', 'MIM:300335']\n",
      "    Key: gene, Value: ['ACE2']\n",
      "    Key: gene_synonym, Value: ['ACEH', 'DKFZP434A014']\n",
      "    Key: product, Value: ['angiotensin I converting enzyme (peptidyl-dipeptidase A) 2']\n",
      "    Key: protein_id, Value: ['AAH39902.1']\n",
      "    Key: translation, Value: ['MSSSSWLLLSLVAVTAAQSTIEEQAKTFLDKFNHEAEDLFYQSSLASWNYNTNITEENVQNMNNAGDKWSAFLKEQSTLAQMYPLQEIQNLTVKLQLQALQQNGSSVLSEDKSKRLNTILNTMSTIYSTGKVCNPDNPQECLLLEPGLNEIMANSLDYNERLWAWESWRSEVGKQLRPLYEEYVVLKNEMARANHYEDYGDYWRGDYEVNGVDGYDYSRGQLIEDVEHTFEEIKPLYEHLHAYVRAKLMNAYPSYISPIGCLPAHLLGDMWGRFWTNLYSLTVPFGQKPNIDVTDAMVDQAWDAQRIFKEAEKFFVSVGLPNMTQGFWENSMLTDPGNVQKAVCHPTAWDLGKGDFRILMCTKVTMDDFLTAHHEMGHIQYDMAYAAQPFLLRNGANEGFHEAVGEIMSLSAATPKHLKSIGLLSPDFQEDNETEINFLLKQALTIVGTLPFTYMLEKWRWMVFKGEIPKDQWMKKWWEMKREIVGVVEPVPHDETYCDPASLFHVSNDYSFIRYYTRTLYQFQFQEALCQAAKHEGPLHKCDISNSTEAGQKLFNMLRLGKSEPWTLALENVVGAKNMNVRPLLNYFEPLFTWLKDQNKNSFVGWSTDWSPYADQSIKVRISLKSALGDKAYEWNDNEMYLFRSSVAYAMRQYFLKVKNQMILFGEEDVRVANLKPRISFNFFVTAPKNVSDIIPRTEVEKAIRMSRSRINDAFRLNDNSLEFLGIQPTLGPPNQPPVSIWLIVFGVVMGVIVVGIVILIFTGIRDRKKKNKARSGENPYASIDISKGENNPGFQNTDDVQTSF']\n",
      " \n",
      "----\n",
      "not processed\n"
     ]
    }
   ],
   "source": [
    "for feature in rec.features:\n",
    "    print('====\\n',feature,'\\n----')\n",
    "    if feature.type == 'gene':\n",
    "        print(feature.qualifiers['gene'])\n",
    "    elif feature.type == 'exon':\n",
    "        loc = feature.location\n",
    "        print('Exon', loc.start, loc.end, loc.strand)\n",
    "    else:\n",
    "        print('not processed')"
   ]
  },
  {
   "cell_type": "code",
   "execution_count": 7,
   "metadata": {},
   "outputs": [
    {
     "name": "stdout",
     "output_type": "stream",
     "text": [
      "molecule_type=mRNA\n",
      "topology=linear\n",
      "data_file_division=PRI\n",
      "date=24-JUL-2006\n",
      "accessions=['BC039902']\n",
      "sequence_version=1\n",
      "keywords=['MGC']\n",
      "source=Homo sapiens (human)\n",
      "organism=Homo sapiens\n",
      "taxonomy=['Eukaryota', 'Metazoa', 'Chordata', 'Craniata', 'Vertebrata', 'Euteleostomi', 'Mammalia', 'Eutheria', 'Euarchontoglires', 'Primates', 'Haplorrhini', 'Catarrhini', 'Hominidae', 'Homo']\n",
      "references=[Reference(title='Generation and initial analysis of more than 15,000 full-length human and mouse cDNA sequences', ...), Reference(title='Direct Submission', ...)]\n",
      "comment=Contact: MGC help desk\n",
      "Email: cgapbs-r@mail.nih.gov\n",
      "Tissue Procurement: Life Technologies, Inc.\n",
      "cDNA Library Preparation: Life Technologies, Inc.\n",
      "cDNA Library Arrayed by: The I.M.A.G.E. Consortium (LLNL)\n",
      "DNA Sequencing by: National Institutes of Health Intramural\n",
      "Sequencing Center (NISC),\n",
      "Gaithersburg, Maryland;\n",
      "Web site: http://www.nisc.nih.gov/\n",
      "Contact: nisc_mgc@nhgri.nih.gov\n",
      "Akhter,N., Ayele,K., Beckstrom-Sternberg,S.M., Benjamin,B.,\n",
      "Blakesley,R.W., Bouffard,G.G., Breen,K., Brinkley,C., Brooks,S.,\n",
      "Dietrich,N.L., Granite,S., Guan,X., Gupta,J., Haghighi,P.,\n",
      "Hansen,N., Ho,S.-L., Karlins,E., Kwong,P., Laric,P., Legaspi,R.,\n",
      "Maduro,Q.L., Masiello,C., Maskeri,B., Mastrian,S.D.,McCloskey,J.C.,\n",
      "McDowell,J., Pearson,R., Stantripop,S., Thomas,P.J., Touchman,J.W.,\n",
      "Tsurgeon,C., Vogt,J.L., Walker,M.A., Wetherby,K.D., Wiggins,L.,\n",
      "Young,A., Zhang,L.-H. and Green,E.D.\n",
      "Clone distribution: MGC clone distribution information can be found\n",
      "through the I.M.A.G.E. Consortium/LLNL at: http://image.llnl.gov\n",
      "Series: IRAK Plate: 82 Row: f Column: 15\n",
      "This clone was selected for full length sequencing because it\n",
      "passed the following selection criteria: matched mRNA gi: 11225608.\n"
     ]
    }
   ],
   "source": [
    "for name, value in rec.annotations.items():\n",
    "    print('%s=%s' % (name, value))"
   ]
  },
  {
   "cell_type": "code",
   "execution_count": 8,
   "metadata": {},
   "outputs": [
    {
     "name": "stdout",
     "output_type": "stream",
     "text": [
      "3348\n"
     ]
    }
   ],
   "source": [
    "print(len(rec.seq))"
   ]
  },
  {
   "cell_type": "code",
   "execution_count": 9,
   "metadata": {},
   "outputs": [
    {
     "name": "stdout",
     "output_type": "stream",
     "text": [
      "location: [0:3348]\n",
      "authors: Strausberg,R.L., Feingold,E.A., Grouse,L.H., Derge,J.G., Klausner,R.D., Collins,F.S., Wagner,L., Shenmen,C.M., Schuler,G.D., Altschul,S.F., Zeeberg,B., Buetow,K.H., Schaefer,C.F., Bhat,N.K., Hopkins,R.F., Jordan,H., Moore,T., Max,S.I., Wang,J., Hsieh,F., Diatchenko,L., Marusina,K., Farmer,A.A., Rubin,G.M., Hong,L., Stapleton,M., Soares,M.B., Bonaldo,M.F., Casavant,T.L., Scheetz,T.E., Brownstein,M.J., Usdin,T.B., Toshiyuki,S., Carninci,P., Prange,C., Raha,S.S., Loquellano,N.A., Peters,G.J., Abramson,R.D., Mullahy,S.J., Bosak,S.A., McEwan,P.J., McKernan,K.J., Malek,J.A., Gunaratne,P.H., Richards,S., Worley,K.C., Hale,S., Garcia,A.M., Gay,L.J., Hulyk,S.W., Villalon,D.K., Muzny,D.M., Sodergren,E.J., Lu,X., Gibbs,R.A., Fahey,J., Helton,E., Ketteman,M., Madan,A., Rodrigues,S., Sanchez,A., Whiting,M., Madan,A., Young,A.C., Shevchenko,Y., Bouffard,G.G., Blakesley,R.W., Touchman,J.W., Green,E.D., Dickson,M.C., Rodriguez,A.C., Grimwood,J., Schmutz,J., Myers,R.M., Butterfield,Y.S., Krzywinski,M.I., Skalska,U., Smailus,D.E., Schnerch,A., Schein,J.E., Jones,S.J. and Marra,M.A.\n",
      "consrtm: Mammalian Gene Collection Program Team\n",
      "title: Generation and initial analysis of more than 15,000 full-length human and mouse cDNA sequences\n",
      "journal: Proc. Natl. Acad. Sci. U.S.A. 99 (26), 16899-16903 (2002)\n",
      "medline id: \n",
      "pubmed id: 12477932\n",
      "comment: \n",
      "\n",
      "12477932\n",
      "PMID: 12477932\n",
      "OWN: NLM\n",
      "STAT: MEDLINE\n",
      "DCOM: 20030121\n",
      "LR: 20190208\n",
      "IS: 0027-8424 (Print) 0027-8424 (Linking)\n",
      "VI: 99\n",
      "IP: 26\n",
      "DP: 2002 Dec 24\n",
      "TI: Generation and initial analysis of more than 15,000 full-length human and mouse cDNA sequences.\n",
      "PG: 16899-903\n",
      "AB: The National Institutes of Health Mammalian Gene Collection (MGC) Program is a multiinstitutional effort to identify and sequence a cDNA clone containing a complete ORF for each human and mouse gene. ESTs were generated from libraries enriched for full-length cDNAs and analyzed to identify candidate full-ORF clones, which then were sequenced to high accuracy. The MGC has currently sequenced and verified the full ORF for a nonredundant set of >9,000 human and >6,000 mouse genes. Candidate full-ORF clones for an additional 7,800 human and 3,500 mouse genes also have been identified. All MGC sequences and clones are available without restriction through public databases and clone distribution networks (see http:mgc.nci.nih.gov).\n",
      "FAU: ['Strausberg, Robert L', 'Feingold, Elise A', 'Grouse, Lynette H', 'Derge, Jeffery G', 'Klausner, Richard D', 'Collins, Francis S', 'Wagner, Lukas', 'Shenmen, Carolyn M', 'Schuler, Gregory D', 'Altschul, Stephen F', 'Zeeberg, Barry', 'Buetow, Kenneth H', 'Schaefer, Carl F', 'Bhat, Narayan K', 'Hopkins, Ralph F', 'Jordan, Heather', 'Moore, Troy', 'Max, Steve I', 'Wang, Jun', 'Hsieh, Florence', 'Diatchenko, Luda', 'Marusina, Kate', 'Farmer, Andrew A', 'Rubin, Gerald M', 'Hong, Ling', 'Stapleton, Mark', 'Soares, M Bento', 'Bonaldo, Maria F', 'Casavant, Tom L', 'Scheetz, Todd E', 'Brownstein, Michael J', 'Usdin, Ted B', 'Toshiyuki, Shiraki', 'Carninci, Piero', 'Prange, Christa', 'Raha, Sam S', 'Loquellano, Naomi A', 'Peters, Garrick J', 'Abramson, Rick D', 'Mullahy, Sara J', 'Bosak, Stephanie A', 'McEwan, Paul J', 'McKernan, Kevin J', 'Malek, Joel A', 'Gunaratne, Preethi H', 'Richards, Stephen', 'Worley, Kim C', 'Hale, Sarah', 'Garcia, Angela M', 'Gay, Laura J', 'Hulyk, Stephen W', 'Villalon, Debbie K', 'Muzny, Donna M', 'Sodergren, Erica J', 'Lu, Xiuhua', 'Gibbs, Richard A', 'Fahey, Jessica', 'Helton, Erin', 'Ketteman, Mark', 'Madan, Anuradha', 'Rodrigues, Stephanie', 'Sanchez, Amy', 'Whiting, Michelle', 'Madan, Anup', 'Young, Alice C', 'Shevchenko, Yuriy', 'Bouffard, Gerard G', 'Blakesley, Robert W', 'Touchman, Jeffrey W', 'Green, Eric D', 'Dickson, Mark C', 'Rodriguez, Alex C', 'Grimwood, Jane', 'Schmutz, Jeremy', 'Myers, Richard M', 'Butterfield, Yaron S N', 'Krzywinski, Martin I', 'Skalska, Ursula', 'Smailus, Duane E', 'Schnerch, Angelique', 'Schein, Jacqueline E', 'Jones, Steven J M', 'Marra, Marco A']\n",
      "AU: ['Strausberg RL', 'Feingold EA', 'Grouse LH', 'Derge JG', 'Klausner RD', 'Collins FS', 'Wagner L', 'Shenmen CM', 'Schuler GD', 'Altschul SF', 'Zeeberg B', 'Buetow KH', 'Schaefer CF', 'Bhat NK', 'Hopkins RF', 'Jordan H', 'Moore T', 'Max SI', 'Wang J', 'Hsieh F', 'Diatchenko L', 'Marusina K', 'Farmer AA', 'Rubin GM', 'Hong L', 'Stapleton M', 'Soares MB', 'Bonaldo MF', 'Casavant TL', 'Scheetz TE', 'Brownstein MJ', 'Usdin TB', 'Toshiyuki S', 'Carninci P', 'Prange C', 'Raha SS', 'Loquellano NA', 'Peters GJ', 'Abramson RD', 'Mullahy SJ', 'Bosak SA', 'McEwan PJ', 'McKernan KJ', 'Malek JA', 'Gunaratne PH', 'Richards S', 'Worley KC', 'Hale S', 'Garcia AM', 'Gay LJ', 'Hulyk SW', 'Villalon DK', 'Muzny DM', 'Sodergren EJ', 'Lu X', 'Gibbs RA', 'Fahey J', 'Helton E', 'Ketteman M', 'Madan A', 'Rodrigues S', 'Sanchez A', 'Whiting M', 'Madan A', 'Young AC', 'Shevchenko Y', 'Bouffard GG', 'Blakesley RW', 'Touchman JW', 'Green ED', 'Dickson MC', 'Rodriguez AC', 'Grimwood J', 'Schmutz J', 'Myers RM', 'Butterfield YS', 'Krzywinski MI', 'Skalska U', 'Smailus DE', 'Schnerch A', 'Schein JE', 'Jones SJ', 'Marra MA']\n",
      "AD: National Cancer Institute, Bethessda, MD 20892-2580, USA. rls@nih.gov\n",
      "CN: ['Mammalian Gene Collection Program Team']\n",
      "LA: ['eng']\n",
      "PT: ['Journal Article', \"Research Support, U.S. Gov't, P.H.S.\"]\n",
      "DEP: 20021211\n",
      "PL: United States\n",
      "TA: Proc Natl Acad Sci U S A\n",
      "JT: Proceedings of the National Academy of Sciences of the United States of America\n",
      "JID: 7505876\n",
      "RN: ['0 (DNA, Complementary)']\n",
      "SB: IM\n",
      "MH: ['Algorithms', 'Animals', 'DNA, Complementary/analysis/*chemistry', 'Gene Library', 'Humans', 'Mice', 'Open Reading Frames', '*Sequence Analysis, DNA']\n",
      "PMC: PMC139241\n",
      "EDAT: 2002/12/13 04:00\n",
      "MHDA: 2003/01/22 04:00\n",
      "CRDT: ['2002/12/13 04:00']\n",
      "PHST: ['2002/12/13 04:00 [pubmed]', '2003/01/22 04:00 [medline]', '2002/12/13 04:00 [entrez]']\n",
      "AID: ['10.1073/pnas.242603899 [doi]', '242603899 [pii]']\n",
      "PST: ppublish\n",
      "SO: Proc Natl Acad Sci U S A. 2002 Dec 24;99(26):16899-903. doi: 10.1073/pnas.242603899. Epub 2002 Dec 11.\n",
      "location: [0:3348]\n",
      "authors: \n",
      "consrtm: NIH MGC Project\n",
      "title: Direct Submission\n",
      "journal: Submitted (15-NOV-2002) National Institutes of Health, Mammalian Gene Collection (MGC), Bethesda, MD 20892-2590, USA\n",
      "medline id: \n",
      "pubmed id: \n",
      "comment: NIH-MGC Project URL: http://mgc.nci.nih.gov\n",
      "\n"
     ]
    }
   ],
   "source": [
    "refs = rec.annotations['references']\n",
    "for ref in refs:\n",
    "    print(ref)\n",
    "    if ref.pubmed_id != '':\n",
    "        print(ref.pubmed_id)\n",
    "        handle = Entrez.efetch(db=\"pubmed\", id=[ref.pubmed_id],\n",
    "                                rettype=\"medline\", retmode=\"text\")\n",
    "        records = Medline.parse(handle)\n",
    "        for med_rec in records:\n",
    "            for k, v in med_rec.items():\n",
    "                print('%s: %s' % (k, v))"
   ]
  }
 ],
 "metadata": {
  "kernelspec": {
   "display_name": "Python 3",
   "language": "python",
   "name": "python3"
  },
  "language_info": {
   "codemirror_mode": {
    "name": "ipython",
    "version": 3
   },
   "file_extension": ".py",
   "mimetype": "text/x-python",
   "name": "python",
   "nbconvert_exporter": "python",
   "pygments_lexer": "ipython3",
   "version": "3.7.6"
  }
 },
 "nbformat": 4,
 "nbformat_minor": 4
}
