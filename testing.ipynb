{
 "cells": [
  {
   "cell_type": "code",
   "execution_count": null,
   "metadata": {},
   "outputs": [],
   "source": []
  },
  {
   "cell_type": "code",
   "execution_count": 1,
   "metadata": {},
   "outputs": [
    {
     "name": "stdout",
     "output_type": "stream",
     "text": [
      "hola\n"
     ]
    }
   ],
   "source": [
    "print(\"hola\")\n"
   ]
  },
  {
   "cell_type": "code",
   "execution_count": 2,
   "metadata": {},
   "outputs": [
    {
     "name": "stdout",
     "output_type": "stream",
     "text": [
      "scipy: 1.4.1\n",
      "numpy: 1.18.1\n",
      "matplotlib: 3.1.3\n",
      "pandas: 1.0.0\n",
      "statsmodels: 0.11.0\n",
      "sklearn: 0.22.1\n"
     ]
    }
   ],
   "source": [
    "import scipy\n",
    "print('scipy: %s' % scipy.__version__)\n",
    "# numpy\n",
    "import numpy\n",
    "print('numpy: %s' % numpy.__version__)\n",
    "# matplotlib\n",
    "import matplotlib\n",
    "print('matplotlib: %s' % matplotlib.__version__)\n",
    "# pandas\n",
    "import pandas\n",
    "print('pandas: %s' % pandas.__version__)\n",
    "# statsmodels\n",
    "import statsmodels\n",
    "print('statsmodels: %s' % statsmodels.__version__)\n",
    "# scikit-learn\n",
    "import sklearn\n",
    "print('sklearn: %s' % sklearn.__version__)\n"
   ]
  },
  {
   "cell_type": "markdown",
   "metadata": {},
   "source": [
    "# This is a level 1 heading \n",
    "### This is a level 3 heading\n",
    "This is how you write some plain text that would form a paragraph.\n",
    "You can emphasize the text by enclosing the text like \"**\" or \"__\" to make it bold and enclosing the text in \"*\" or \"_\" to make it italic. \n",
    "Paragraphs are separated by an empty line.\n",
    "* We can include lists.\n",
    "  * And also indent them.\n",
    "  \n",
    "file:///Users/jordivilla/img_dibernon_20161223-193051_imagenes_lv_propias_dibernon__76q3000_4_5_460907109-011_4_5_527258450-ksuG-U473307945289DwE-992x558@LaVanguardia-Web.jpg\n",
    "\n",
    "1. Getting Numbered lists is\n",
    "2. Also easy.\n",
    "\n",
    "[To include hyperlinks enclose the text with square braces and then add the link url in round braces](http://www.example.com)\n",
    "\n",
    "Inline code uses single backticks: `foo()`, and code blocks use triple backticks:\n",
    "\n",
    "``` \n",
    "foo()\n",
    "```\n",
    "\n",
    "Or can be indented by 4 spaces: \n",
    "\n",
    "    foo()\n",
    "    \n",
    "And finally, adding images is easy: ![Online Image](https://www.example.com/image.jpg) or ![Local Image](img/image.jpg) or ![Image Attachment](attachment:image.jpg)"
   ]
  },
  {
   "cell_type": "code",
   "execution_count": 3,
   "metadata": {},
   "outputs": [],
   "source": [
    "import os, binascii\n",
    "def sum(x,y):\n",
    "  return x+y"
   ]
  },
  {
   "cell_type": "code",
   "execution_count": 4,
   "metadata": {},
   "outputs": [
    {
     "name": "stdout",
     "output_type": "stream",
     "text": [
      "b'277386d74c2222f93413c35be3fe3d'\n",
      "Sum of 1 and 2 is 3\n"
     ]
    }
   ],
   "source": [
    "rand_hex_string = binascii.b2a_hex(os.urandom(15)) \n",
    "print(rand_hex_string)\n",
    "x = 1\n",
    "y = 2\n",
    "z = sum(x,y)\n",
    "print('Sum of %d and %d is %d' % (x, y, z))"
   ]
  }
 ],
 "metadata": {
  "kernelspec": {
   "display_name": "Python 3",
   "language": "python",
   "name": "python3"
  },
  "language_info": {
   "codemirror_mode": {
    "name": "ipython",
    "version": 3
   },
   "file_extension": ".py",
   "mimetype": "text/x-python",
   "name": "python",
   "nbconvert_exporter": "python",
   "pygments_lexer": "ipython3",
   "version": "3.7.4"
  }
 },
 "nbformat": 4,
 "nbformat_minor": 4
}
