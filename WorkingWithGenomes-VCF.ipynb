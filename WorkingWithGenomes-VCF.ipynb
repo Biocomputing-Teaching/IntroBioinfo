{
 "cells": [
  {
   "cell_type": "markdown",
   "metadata": {},
   "source": [
    "Adapted from [https://github.com/PacktPublishing/Bioinformatics-with-Python-Cookbook-Second-Edition](https://github.com/PacktPublishing/Bioinformatics-with-Python-Cookbook-Second-Edition), Chapter 2.\n",
    "\n",
    "```\n",
    "conda config --add channels bioconda\n",
    "conda install tabix pyvcf\n",
    "```\n",
    "You can also check the functions available in `scikit-allel` [here](http://alimanfoo.github.io/2017/06/14/read-vcf.html)\n",
    "\n",
    "Example of VCF file. Nice explanation by Colleen Saunders can be found [here](https://training.h3abionet.org/IBT_2017/wp-content/uploads/2017/06/Module5_Session4_part3.mp4):\n",
    "\n",
    "\n",
    "```\n",
    "##fileformat=VCFv4.3\n",
    "##reference=file:///seq/references/1000GenomesPilot-NCBI36.fasta\n",
    "##contig=<ID=20,length=62435964,assembly=B36,md5=f126cdf8a6e0c7f379d618ff66beb2da,species=\"Homo sapiens\",taxonomy=x>\n",
    "##INFO=<ID=DP,Number=1,Type=Integer,Description=\"Total Depth\">\n",
    "##INFO=<ID=AF,Number=A,Type=Float,Description=\"Allele Frequency\">\n",
    "##INFO=<ID=DB,Number=0,Type=Flag,Description=\"dbSNP membership, build 129\">\n",
    "##FILTER=<ID=q10,Description=\"Quality below 10\">\n",
    "##FILTER=<ID=s50,Description=\"Less than 50% of samples have data\">\n",
    "##FORMAT=<ID=GT,Number=1,Type=String,Description=\"Genotype\">\n",
    "##FORMAT=<ID=DP,Number=1,Type=Integer,Description=\"Read Depth\">\n",
    "#CHROM\tPOS\tID\tREF\tALT\tQUAL\tFILTER\tINFO\tFORMAT\tNA00001\tNA00002\tNA00003\n",
    "20\t14370\trs6054257\tG\tA\t29\tPASS\tDP=14;AF=0.5;DB\tGT:DP\t0/0:1\t0/1:8\t1/1:5\n",
    "20\t17330\t.\tT\tA\t3\tq10\tDP=11;AF=0.017\tGT:DP\t0/0:3\t0/1:5\t0/0:41\n",
    "20\t1110696\trs6040355\tA\tG,T\t67\tPASS\tDP=10;AF=0.333,0.667;DB\tGT:DP\t0/2:6\t1/2:0\t2/2:4\n",
    "20\t1230237\t.\tT\t.\t47\tPASS\tDP=13\tGT:DP\t0/0:7\t0/0:4\t./.:.\n",
    "\n",
    "```\n",
    "\n",
    "# Getting the necessary data"
   ]
  },
  {
   "cell_type": "markdown",
   "metadata": {},
   "source": [
    "You just need to do this only once"
   ]
  },
  {
   "cell_type": "code",
   "execution_count": 3,
   "metadata": {},
   "outputs": [],
   "source": [
    "!rm -f data/genotypes.vcf.gz 2>/dev/null\n",
    "!tabix -fh ftp://ftp-trace.ncbi.nih.gov/1000genomes/ftp/release/20130502/supporting/vcf_with_sample_level_annotation/ALL.chr22.phase3_shapeit2_mvncall_integrated_v5_extra_anno.20130502.genotypes.vcf.gz 22:1-17000000|bgzip -c > data/genotypes.vcf.gz\n",
    "!tabix -p vcf data/genotypes.vcf.gz"
   ]
  },
  {
   "cell_type": "code",
   "execution_count": 2,
   "metadata": {},
   "outputs": [],
   "source": [
    "from collections import defaultdict\n",
    "\n",
    "%matplotlib inline\n",
    "import seaborn as sns\n",
    "import matplotlib.pyplot as plt\n",
    "\n",
    "import vcf"
   ]
  },
  {
   "cell_type": "markdown",
   "metadata": {},
   "source": [
    "Variant record level\n",
    "\n",
    "* AC: total number of alternative allelels in called genotypes\n",
    "* AF: estimated allele frequency\n",
    "* NS: number of samples with data\n",
    "* AN: total number of alleles in called genotypes\n",
    "* DP: total read depth\n",
    "* (...)\n",
    "\n",
    "Sample level:\n",
    "\n",
    "* GT: genotype\n",
    "* DP: per sample read depth"
   ]
  },
  {
   "cell_type": "code",
   "execution_count": 9,
   "metadata": {},
   "outputs": [
    {
     "name": "stdout",
     "output_type": "stream",
     "text": [
      "Variant Level information\n",
      "CIEND\n",
      "CIPOS\n",
      "CS\n",
      "END\n",
      "IMPRECISE\n",
      "MC\n",
      "MEINFO\n",
      "MEND\n",
      "MLEN\n",
      "MSTART\n",
      "SVLEN\n",
      "SVTYPE\n",
      "TSD\n",
      "AC\n",
      "AF\n",
      "NS\n",
      "AN\n",
      "ASN_AF\n",
      "EUR_AF\n",
      "AFR_AF\n",
      "AMR_AF\n",
      "SAN_AF\n",
      "DP\n",
      "Sample Level information\n",
      "GT\n",
      "DP\n"
     ]
    }
   ],
   "source": [
    "v = vcf.Reader(filename='data/genotypes.vcf.gz')\n",
    "\n",
    "print('Variant Level information')\n",
    "infos = v.infos\n",
    "for info in infos:\n",
    "    print(info)\n",
    "\n",
    "print('Sample Level information')\n",
    "fmts = v.formats\n",
    "for fmt in fmts:\n",
    "    print(fmt)"
   ]
  },
  {
   "cell_type": "markdown",
   "metadata": {},
   "source": [
    "Let us inspect a single VCF record"
   ]
  },
  {
   "cell_type": "code",
   "execution_count": 6,
   "metadata": {},
   "outputs": [
    {
     "name": "stdout",
     "output_type": "stream",
     "text": [
      "=====\n",
      "CHROM, POS, ID, REF, ALT, QUAL, FILTER\n",
      "22 16050075 None A [G] 100 []\n",
      "=====\n",
      "Variant-level info\n",
      "{'AC': [1], 'AF': [0.000199681], 'AN': 5008, 'NS': 2504, 'DP': [8012], 'ASN_AF': [0.0], 'AMR_AF': [0.0], 'SAS_AF': ['0.0010'], 'EUR_AF': [0.0], 'EAS_AF': [''], 'AFR_AF': [0.0], 'SAN_AF': [0.0]}\n",
      "GT:DP\n",
      "=====\n",
      "SAMPLE ID's\n",
      "2504\n",
      "True ['0', '0'] False False True\n",
      "1\n"
     ]
    }
   ],
   "source": [
    "v = vcf.Reader(filename='data/genotypes.vcf.gz')\n",
    "rec = next(v)\n",
    "print('=====\\nCHROM, POS, ID, REF, ALT, QUAL, FILTER' )\n",
    "print(rec.CHROM, rec.POS, rec.ID, rec.REF, rec.ALT, rec.QUAL, rec.FILTER)\n",
    "print('=====\\nVariant-level info')\n",
    "print(rec.INFO)\n",
    "print(rec.FORMAT)\n",
    "print('=====\\nSAMPLE ID\\'s')\n",
    "samples = rec.samples\n",
    "print(len(samples))\n",
    "sample = samples[0]\n",
    "print(sample.called, sample.gt_alleles, sample.is_het, sample.is_variant, sample.phased)\n",
    "print(int(sample['DP']))"
   ]
  },
  {
   "cell_type": "markdown",
   "metadata": {},
   "source": [
    "let us check the type of variant and the number onbiallelic SNPs"
   ]
  },
  {
   "cell_type": "code",
   "execution_count": 10,
   "metadata": {},
   "outputs": [
    {
     "name": "stdout",
     "output_type": "stream",
     "text": [
      "defaultdict(<class 'int'>, {('snp', 'ts'): 10054, ('snp', 'tv'): 5917, ('sv', 'CNV'): 2, ('indel', 'del'): 273, ('snp', 'unknown'): 79, ('indel', 'ins'): 127, ('indel', 'unknown'): 13, ('sv', 'DEL'): 6, ('sv', 'SVA'): 1})\n",
      "defaultdict(<class 'int'>, {1: 15971, 2: 79})\n"
     ]
    }
   ],
   "source": [
    "f = vcf.Reader(filename='data/genotypes.vcf.gz')\n",
    "\n",
    "my_type = defaultdict(int)\n",
    "num_alts = defaultdict(int)\n",
    "\n",
    "for rec in f:\n",
    "    my_type[rec.var_type, rec.var_subtype] += 1\n",
    "    if rec.is_snp:\n",
    "        num_alts[len(rec.ALT)] += 1\n",
    "print(my_type)\n",
    "print(num_alts)"
   ]
  },
  {
   "cell_type": "markdown",
   "metadata": {},
   "source": [
    "![alt text](figures/TTs.png \"Title\")"
   ]
  },
  {
   "cell_type": "code",
   "execution_count": 11,
   "metadata": {},
   "outputs": [],
   "source": [
    "f = vcf.Reader(filename='data/genotypes.vcf.gz')\n",
    "\n",
    "sample_dp = defaultdict(int)\n",
    "for rec in f:\n",
    "    if not rec.is_snp or len(rec.ALT) != 1:\n",
    "        continue\n",
    "    for sample in rec.samples:\n",
    "        dp = sample['DP']\n",
    "        if dp is None:\n",
    "            dp = 0\n",
    "        dp = int(dp)\n",
    "        sample_dp[dp] += 1"
   ]
  },
  {
   "cell_type": "code",
   "execution_count": 12,
   "metadata": {},
   "outputs": [
    {
     "data": {
      "text/plain": [
       "<matplotlib.lines.Line2D at 0x11b8b5510>"
      ]
     },
     "execution_count": 12,
     "metadata": {},
     "output_type": "execute_result"
    },
    {
     "data": {
      "image/png": "[encoded data removed]",
      "text/plain": [
       "<Figure size 1152x648 with 1 Axes>"
      ]
     },
     "metadata": {
      "needs_background": "light"
     },
     "output_type": "display_data"
    }
   ],
   "source": [
    "dps = list(sample_dp.keys())\n",
    "dps.sort()\n",
    "dp_dist = [sample_dp[x] for x in dps]\n",
    "fig, ax = plt.subplots(figsize=(16, 9))\n",
    "ax.plot(dp_dist[:50], 'r')\n",
    "ax.axvline(dp_dist.index(max(dp_dist)))"
   ]
  },
  {
   "cell_type": "code",
   "execution_count": null,
   "metadata": {},
   "outputs": [],
   "source": []
  }
 ],
 "metadata": {
  "kernelspec": {
   "display_name": "Python 3",
   "language": "python",
   "name": "python3"
  },
  "language_info": {
   "codemirror_mode": {
    "name": "ipython",
    "version": 3
   },
   "file_extension": ".py",
   "mimetype": "text/x-python",
   "name": "python",
   "nbconvert_exporter": "python",
   "pygments_lexer": "ipython3",
   "version": "3.7.6"
  }
 },
 "nbformat": 4,
 "nbformat_minor": 2
}
